{
  "cells": [
    {
      "cell_type": "code",
      "execution_count": 1,
      "id": "e551238e",
      "metadata": {
        "id": "e551238e"
      },
      "outputs": [],
      "source": [
        "import numpy as np\n",
        "import pandas as pd\n",
        "import matplotlib.pyplot as plt"
      ]
    },
    {
      "cell_type": "code",
      "execution_count": 2,
      "id": "c4f5e809",
      "metadata": {
        "id": "c4f5e809",
        "outputId": "00033232-2617-46ae-fefa-afc45d39c946",
        "colab": {
          "base_uri": "https://localhost:8080/",
          "height": 423
        }
      },
      "outputs": [
        {
          "output_type": "execute_result",
          "data": {
            "text/plain": [
              "      Unnamed: 0.1  Unnamed: 0 label  \\\n",
              "0                0         605   ham   \n",
              "1                1        2349   ham   \n",
              "2                2        3624   ham   \n",
              "3                3        4685  spam   \n",
              "4                4        2030   ham   \n",
              "...            ...         ...   ...   \n",
              "5166          5166        1518   ham   \n",
              "5167          5167         404   ham   \n",
              "5168          5168        2933   ham   \n",
              "5169          5169        1409   ham   \n",
              "5170          5170        4807  spam   \n",
              "\n",
              "                                                   text  label_num  \\\n",
              "0     Subject: enron methanol ; meter # : 988291\\r\\n...          0   \n",
              "1     Subject: hpl nom for january 9 , 2001\\r\\n( see...          0   \n",
              "2     Subject: neon retreat\\r\\nho ho ho , we ' re ar...          0   \n",
              "3     Subject: photoshop , windows , office . cheap ...          1   \n",
              "4     Subject: re : indian springs\\r\\nthis deal is t...          0   \n",
              "...                                                 ...        ...   \n",
              "5166  Subject: put the 10 on the ft\\r\\nthe transport...          0   \n",
              "5167  Subject: 3 / 4 / 2000 and following noms\\r\\nhp...          0   \n",
              "5168  Subject: calpine daily gas nomination\\r\\n>\\r\\n...          0   \n",
              "5169  Subject: industrial worksheets for august 2000...          0   \n",
              "5170  Subject: important online banking alert\\r\\ndea...          1   \n",
              "\n",
              "                                                  Hindi  \n",
              "0     विषय: एनरॉन मेथनॉल; मीटर # : 988291\\r\\nयह उस न...  \n",
              "1     विषय: 9 जनवरी 2001 के लिए एचपीएल नामांकन\\r\\n(स...  \n",
              "2     विषय: नियॉन रिट्रीट\\r\\nहो हो हो, हम वर्ष के उस...  \n",
              "3     विषय: फ़ोटोशॉप, विंडोज़, कार्यालय। सस्ता । मुख...  \n",
              "4     विषय: पुन: भारतीय स्प्रिंग्स\\r\\nयह डील टेको पी...  \n",
              "...                                                 ...  \n",
              "5166  विषय: 10 को पैरों पर रखें\\r\\nपरिवहन मात्रा 250...  \n",
              "5167  विषय: 3 / 4 / 2000 और निम्नलिखित नामांक\\r\\nएचप...  \n",
              "5168  विषय: कैलपाइन दैनिक गैस नामांकन\\r\\n>\\r\\n>\\r\\nज...  \n",
              "5169  विषय: अगस्त 2000 की गतिविधि के लिए औद्योगिक का...  \n",
              "5170  विषय: महत्वपूर्ण ऑनलाइन बैंकिंग अलर्ट\\r\\nप्रिय...  \n",
              "\n",
              "[5171 rows x 6 columns]"
            ],
            "text/html": [
              "\n",
              "  <div id=\"df-3642e7e6-a239-44d1-a763-35fcb18ee27c\" class=\"colab-df-container\">\n",
              "    <div>\n",
              "<style scoped>\n",
              "    .dataframe tbody tr th:only-of-type {\n",
              "        vertical-align: middle;\n",
              "    }\n",
              "\n",
              "    .dataframe tbody tr th {\n",
              "        vertical-align: top;\n",
              "    }\n",
              "\n",
              "    .dataframe thead th {\n",
              "        text-align: right;\n",
              "    }\n",
              "</style>\n",
              "<table border=\"1\" class=\"dataframe\">\n",
              "  <thead>\n",
              "    <tr style=\"text-align: right;\">\n",
              "      <th></th>\n",
              "      <th>Unnamed: 0.1</th>\n",
              "      <th>Unnamed: 0</th>\n",
              "      <th>label</th>\n",
              "      <th>text</th>\n",
              "      <th>label_num</th>\n",
              "      <th>Hindi</th>\n",
              "    </tr>\n",
              "  </thead>\n",
              "  <tbody>\n",
              "    <tr>\n",
              "      <th>0</th>\n",
              "      <td>0</td>\n",
              "      <td>605</td>\n",
              "      <td>ham</td>\n",
              "      <td>Subject: enron methanol ; meter # : 988291\\r\\n...</td>\n",
              "      <td>0</td>\n",
              "      <td>विषय: एनरॉन मेथनॉल; मीटर # : 988291\\r\\nयह उस न...</td>\n",
              "    </tr>\n",
              "    <tr>\n",
              "      <th>1</th>\n",
              "      <td>1</td>\n",
              "      <td>2349</td>\n",
              "      <td>ham</td>\n",
              "      <td>Subject: hpl nom for january 9 , 2001\\r\\n( see...</td>\n",
              "      <td>0</td>\n",
              "      <td>विषय: 9 जनवरी 2001 के लिए एचपीएल नामांकन\\r\\n(स...</td>\n",
              "    </tr>\n",
              "    <tr>\n",
              "      <th>2</th>\n",
              "      <td>2</td>\n",
              "      <td>3624</td>\n",
              "      <td>ham</td>\n",
              "      <td>Subject: neon retreat\\r\\nho ho ho , we ' re ar...</td>\n",
              "      <td>0</td>\n",
              "      <td>विषय: नियॉन रिट्रीट\\r\\nहो हो हो, हम वर्ष के उस...</td>\n",
              "    </tr>\n",
              "    <tr>\n",
              "      <th>3</th>\n",
              "      <td>3</td>\n",
              "      <td>4685</td>\n",
              "      <td>spam</td>\n",
              "      <td>Subject: photoshop , windows , office . cheap ...</td>\n",
              "      <td>1</td>\n",
              "      <td>विषय: फ़ोटोशॉप, विंडोज़, कार्यालय। सस्ता । मुख...</td>\n",
              "    </tr>\n",
              "    <tr>\n",
              "      <th>4</th>\n",
              "      <td>4</td>\n",
              "      <td>2030</td>\n",
              "      <td>ham</td>\n",
              "      <td>Subject: re : indian springs\\r\\nthis deal is t...</td>\n",
              "      <td>0</td>\n",
              "      <td>विषय: पुन: भारतीय स्प्रिंग्स\\r\\nयह डील टेको पी...</td>\n",
              "    </tr>\n",
              "    <tr>\n",
              "      <th>...</th>\n",
              "      <td>...</td>\n",
              "      <td>...</td>\n",
              "      <td>...</td>\n",
              "      <td>...</td>\n",
              "      <td>...</td>\n",
              "      <td>...</td>\n",
              "    </tr>\n",
              "    <tr>\n",
              "      <th>5166</th>\n",
              "      <td>5166</td>\n",
              "      <td>1518</td>\n",
              "      <td>ham</td>\n",
              "      <td>Subject: put the 10 on the ft\\r\\nthe transport...</td>\n",
              "      <td>0</td>\n",
              "      <td>विषय: 10 को पैरों पर रखें\\r\\nपरिवहन मात्रा 250...</td>\n",
              "    </tr>\n",
              "    <tr>\n",
              "      <th>5167</th>\n",
              "      <td>5167</td>\n",
              "      <td>404</td>\n",
              "      <td>ham</td>\n",
              "      <td>Subject: 3 / 4 / 2000 and following noms\\r\\nhp...</td>\n",
              "      <td>0</td>\n",
              "      <td>विषय: 3 / 4 / 2000 और निम्नलिखित नामांक\\r\\nएचप...</td>\n",
              "    </tr>\n",
              "    <tr>\n",
              "      <th>5168</th>\n",
              "      <td>5168</td>\n",
              "      <td>2933</td>\n",
              "      <td>ham</td>\n",
              "      <td>Subject: calpine daily gas nomination\\r\\n&gt;\\r\\n...</td>\n",
              "      <td>0</td>\n",
              "      <td>विषय: कैलपाइन दैनिक गैस नामांकन\\r\\n&gt;\\r\\n&gt;\\r\\nज...</td>\n",
              "    </tr>\n",
              "    <tr>\n",
              "      <th>5169</th>\n",
              "      <td>5169</td>\n",
              "      <td>1409</td>\n",
              "      <td>ham</td>\n",
              "      <td>Subject: industrial worksheets for august 2000...</td>\n",
              "      <td>0</td>\n",
              "      <td>विषय: अगस्त 2000 की गतिविधि के लिए औद्योगिक का...</td>\n",
              "    </tr>\n",
              "    <tr>\n",
              "      <th>5170</th>\n",
              "      <td>5170</td>\n",
              "      <td>4807</td>\n",
              "      <td>spam</td>\n",
              "      <td>Subject: important online banking alert\\r\\ndea...</td>\n",
              "      <td>1</td>\n",
              "      <td>विषय: महत्वपूर्ण ऑनलाइन बैंकिंग अलर्ट\\r\\nप्रिय...</td>\n",
              "    </tr>\n",
              "  </tbody>\n",
              "</table>\n",
              "<p>5171 rows × 6 columns</p>\n",
              "</div>\n",
              "    <div class=\"colab-df-buttons\">\n",
              "\n",
              "  <div class=\"colab-df-container\">\n",
              "    <button class=\"colab-df-convert\" onclick=\"convertToInteractive('df-3642e7e6-a239-44d1-a763-35fcb18ee27c')\"\n",
              "            title=\"Convert this dataframe to an interactive table.\"\n",
              "            style=\"display:none;\">\n",
              "\n",
              "  <svg xmlns=\"http://www.w3.org/2000/svg\" height=\"24px\" viewBox=\"0 -960 960 960\">\n",
              "    <path d=\"M120-120v-720h720v720H120Zm60-500h600v-160H180v160Zm220 220h160v-160H400v160Zm0 220h160v-160H400v160ZM180-400h160v-160H180v160Zm440 0h160v-160H620v160ZM180-180h160v-160H180v160Zm440 0h160v-160H620v160Z\"/>\n",
              "  </svg>\n",
              "    </button>\n",
              "\n",
              "  <style>\n",
              "    .colab-df-container {\n",
              "      display:flex;\n",
              "      gap: 12px;\n",
              "    }\n",
              "\n",
              "    .colab-df-convert {\n",
              "      background-color: #E8F0FE;\n",
              "      border: none;\n",
              "      border-radius: 50%;\n",
              "      cursor: pointer;\n",
              "      display: none;\n",
              "      fill: #1967D2;\n",
              "      height: 32px;\n",
              "      padding: 0 0 0 0;\n",
              "      width: 32px;\n",
              "    }\n",
              "\n",
              "    .colab-df-convert:hover {\n",
              "      background-color: #E2EBFA;\n",
              "      box-shadow: 0px 1px 2px rgba(60, 64, 67, 0.3), 0px 1px 3px 1px rgba(60, 64, 67, 0.15);\n",
              "      fill: #174EA6;\n",
              "    }\n",
              "\n",
              "    .colab-df-buttons div {\n",
              "      margin-bottom: 4px;\n",
              "    }\n",
              "\n",
              "    [theme=dark] .colab-df-convert {\n",
              "      background-color: #3B4455;\n",
              "      fill: #D2E3FC;\n",
              "    }\n",
              "\n",
              "    [theme=dark] .colab-df-convert:hover {\n",
              "      background-color: #434B5C;\n",
              "      box-shadow: 0px 1px 3px 1px rgba(0, 0, 0, 0.15);\n",
              "      filter: drop-shadow(0px 1px 2px rgba(0, 0, 0, 0.3));\n",
              "      fill: #FFFFFF;\n",
              "    }\n",
              "  </style>\n",
              "\n",
              "    <script>\n",
              "      const buttonEl =\n",
              "        document.querySelector('#df-3642e7e6-a239-44d1-a763-35fcb18ee27c button.colab-df-convert');\n",
              "      buttonEl.style.display =\n",
              "        google.colab.kernel.accessAllowed ? 'block' : 'none';\n",
              "\n",
              "      async function convertToInteractive(key) {\n",
              "        const element = document.querySelector('#df-3642e7e6-a239-44d1-a763-35fcb18ee27c');\n",
              "        const dataTable =\n",
              "          await google.colab.kernel.invokeFunction('convertToInteractive',\n",
              "                                                    [key], {});\n",
              "        if (!dataTable) return;\n",
              "\n",
              "        const docLinkHtml = 'Like what you see? Visit the ' +\n",
              "          '<a target=\"_blank\" href=https://colab.research.google.com/notebooks/data_table.ipynb>data table notebook</a>'\n",
              "          + ' to learn more about interactive tables.';\n",
              "        element.innerHTML = '';\n",
              "        dataTable['output_type'] = 'display_data';\n",
              "        await google.colab.output.renderOutput(dataTable, element);\n",
              "        const docLink = document.createElement('div');\n",
              "        docLink.innerHTML = docLinkHtml;\n",
              "        element.appendChild(docLink);\n",
              "      }\n",
              "    </script>\n",
              "  </div>\n",
              "\n",
              "\n",
              "<div id=\"df-938a4b91-2c7d-4c37-98b4-4b5045c2696b\">\n",
              "  <button class=\"colab-df-quickchart\" onclick=\"quickchart('df-938a4b91-2c7d-4c37-98b4-4b5045c2696b')\"\n",
              "            title=\"Suggest charts.\"\n",
              "            style=\"display:none;\">\n",
              "\n",
              "<svg xmlns=\"http://www.w3.org/2000/svg\" height=\"24px\"viewBox=\"0 0 24 24\"\n",
              "     width=\"24px\">\n",
              "    <g>\n",
              "        <path d=\"M19 3H5c-1.1 0-2 .9-2 2v14c0 1.1.9 2 2 2h14c1.1 0 2-.9 2-2V5c0-1.1-.9-2-2-2zM9 17H7v-7h2v7zm4 0h-2V7h2v10zm4 0h-2v-4h2v4z\"/>\n",
              "    </g>\n",
              "</svg>\n",
              "  </button>\n",
              "\n",
              "<style>\n",
              "  .colab-df-quickchart {\n",
              "    background-color: #E8F0FE;\n",
              "    border: none;\n",
              "    border-radius: 50%;\n",
              "    cursor: pointer;\n",
              "    display: none;\n",
              "    fill: #1967D2;\n",
              "    height: 32px;\n",
              "    padding: 0 0 0 0;\n",
              "    width: 32px;\n",
              "  }\n",
              "\n",
              "  .colab-df-quickchart:hover {\n",
              "    background-color: #E2EBFA;\n",
              "    box-shadow: 0px 1px 2px rgba(60, 64, 67, 0.3), 0px 1px 3px 1px rgba(60, 64, 67, 0.15);\n",
              "    fill: #174EA6;\n",
              "  }\n",
              "\n",
              "  [theme=dark] .colab-df-quickchart {\n",
              "    background-color: #3B4455;\n",
              "    fill: #D2E3FC;\n",
              "  }\n",
              "\n",
              "  [theme=dark] .colab-df-quickchart:hover {\n",
              "    background-color: #434B5C;\n",
              "    box-shadow: 0px 1px 3px 1px rgba(0, 0, 0, 0.15);\n",
              "    filter: drop-shadow(0px 1px 2px rgba(0, 0, 0, 0.3));\n",
              "    fill: #FFFFFF;\n",
              "  }\n",
              "</style>\n",
              "\n",
              "  <script>\n",
              "    async function quickchart(key) {\n",
              "      const charts = await google.colab.kernel.invokeFunction(\n",
              "          'suggestCharts', [key], {});\n",
              "    }\n",
              "    (() => {\n",
              "      let quickchartButtonEl =\n",
              "        document.querySelector('#df-938a4b91-2c7d-4c37-98b4-4b5045c2696b button');\n",
              "      quickchartButtonEl.style.display =\n",
              "        google.colab.kernel.accessAllowed ? 'block' : 'none';\n",
              "    })();\n",
              "  </script>\n",
              "</div>\n",
              "    </div>\n",
              "  </div>\n"
            ]
          },
          "metadata": {},
          "execution_count": 2
        }
      ],
      "source": [
        "df = pd.read_csv(\"/content/spam_ham_dataset_hindi.csv\")\n",
        "df"
      ]
    },
    {
      "cell_type": "code",
      "execution_count": 3,
      "id": "95486577",
      "metadata": {
        "id": "95486577",
        "outputId": "726b38f9-8227-44a1-ac7d-435ba66b85a8",
        "colab": {
          "base_uri": "https://localhost:8080/",
          "height": 423
        }
      },
      "outputs": [
        {
          "output_type": "execute_result",
          "data": {
            "text/plain": [
              "     label                                               text  label_num  \\\n",
              "0      ham  Subject: enron methanol ; meter # : 988291\\r\\n...          0   \n",
              "1      ham  Subject: hpl nom for january 9 , 2001\\r\\n( see...          0   \n",
              "2      ham  Subject: neon retreat\\r\\nho ho ho , we ' re ar...          0   \n",
              "3     spam  Subject: photoshop , windows , office . cheap ...          1   \n",
              "4      ham  Subject: re : indian springs\\r\\nthis deal is t...          0   \n",
              "...    ...                                                ...        ...   \n",
              "5166   ham  Subject: put the 10 on the ft\\r\\nthe transport...          0   \n",
              "5167   ham  Subject: 3 / 4 / 2000 and following noms\\r\\nhp...          0   \n",
              "5168   ham  Subject: calpine daily gas nomination\\r\\n>\\r\\n...          0   \n",
              "5169   ham  Subject: industrial worksheets for august 2000...          0   \n",
              "5170  spam  Subject: important online banking alert\\r\\ndea...          1   \n",
              "\n",
              "                                                  Hindi  \n",
              "0     विषय: एनरॉन मेथनॉल; मीटर # : 988291\\r\\nयह उस न...  \n",
              "1     विषय: 9 जनवरी 2001 के लिए एचपीएल नामांकन\\r\\n(स...  \n",
              "2     विषय: नियॉन रिट्रीट\\r\\nहो हो हो, हम वर्ष के उस...  \n",
              "3     विषय: फ़ोटोशॉप, विंडोज़, कार्यालय। सस्ता । मुख...  \n",
              "4     विषय: पुन: भारतीय स्प्रिंग्स\\r\\nयह डील टेको पी...  \n",
              "...                                                 ...  \n",
              "5166  विषय: 10 को पैरों पर रखें\\r\\nपरिवहन मात्रा 250...  \n",
              "5167  विषय: 3 / 4 / 2000 और निम्नलिखित नामांक\\r\\nएचप...  \n",
              "5168  विषय: कैलपाइन दैनिक गैस नामांकन\\r\\n>\\r\\n>\\r\\nज...  \n",
              "5169  विषय: अगस्त 2000 की गतिविधि के लिए औद्योगिक का...  \n",
              "5170  विषय: महत्वपूर्ण ऑनलाइन बैंकिंग अलर्ट\\r\\nप्रिय...  \n",
              "\n",
              "[5171 rows x 4 columns]"
            ],
            "text/html": [
              "\n",
              "  <div id=\"df-32b5be70-f27c-4daf-9d35-88d54b54c73c\" class=\"colab-df-container\">\n",
              "    <div>\n",
              "<style scoped>\n",
              "    .dataframe tbody tr th:only-of-type {\n",
              "        vertical-align: middle;\n",
              "    }\n",
              "\n",
              "    .dataframe tbody tr th {\n",
              "        vertical-align: top;\n",
              "    }\n",
              "\n",
              "    .dataframe thead th {\n",
              "        text-align: right;\n",
              "    }\n",
              "</style>\n",
              "<table border=\"1\" class=\"dataframe\">\n",
              "  <thead>\n",
              "    <tr style=\"text-align: right;\">\n",
              "      <th></th>\n",
              "      <th>label</th>\n",
              "      <th>text</th>\n",
              "      <th>label_num</th>\n",
              "      <th>Hindi</th>\n",
              "    </tr>\n",
              "  </thead>\n",
              "  <tbody>\n",
              "    <tr>\n",
              "      <th>0</th>\n",
              "      <td>ham</td>\n",
              "      <td>Subject: enron methanol ; meter # : 988291\\r\\n...</td>\n",
              "      <td>0</td>\n",
              "      <td>विषय: एनरॉन मेथनॉल; मीटर # : 988291\\r\\nयह उस न...</td>\n",
              "    </tr>\n",
              "    <tr>\n",
              "      <th>1</th>\n",
              "      <td>ham</td>\n",
              "      <td>Subject: hpl nom for january 9 , 2001\\r\\n( see...</td>\n",
              "      <td>0</td>\n",
              "      <td>विषय: 9 जनवरी 2001 के लिए एचपीएल नामांकन\\r\\n(स...</td>\n",
              "    </tr>\n",
              "    <tr>\n",
              "      <th>2</th>\n",
              "      <td>ham</td>\n",
              "      <td>Subject: neon retreat\\r\\nho ho ho , we ' re ar...</td>\n",
              "      <td>0</td>\n",
              "      <td>विषय: नियॉन रिट्रीट\\r\\nहो हो हो, हम वर्ष के उस...</td>\n",
              "    </tr>\n",
              "    <tr>\n",
              "      <th>3</th>\n",
              "      <td>spam</td>\n",
              "      <td>Subject: photoshop , windows , office . cheap ...</td>\n",
              "      <td>1</td>\n",
              "      <td>विषय: फ़ोटोशॉप, विंडोज़, कार्यालय। सस्ता । मुख...</td>\n",
              "    </tr>\n",
              "    <tr>\n",
              "      <th>4</th>\n",
              "      <td>ham</td>\n",
              "      <td>Subject: re : indian springs\\r\\nthis deal is t...</td>\n",
              "      <td>0</td>\n",
              "      <td>विषय: पुन: भारतीय स्प्रिंग्स\\r\\nयह डील टेको पी...</td>\n",
              "    </tr>\n",
              "    <tr>\n",
              "      <th>...</th>\n",
              "      <td>...</td>\n",
              "      <td>...</td>\n",
              "      <td>...</td>\n",
              "      <td>...</td>\n",
              "    </tr>\n",
              "    <tr>\n",
              "      <th>5166</th>\n",
              "      <td>ham</td>\n",
              "      <td>Subject: put the 10 on the ft\\r\\nthe transport...</td>\n",
              "      <td>0</td>\n",
              "      <td>विषय: 10 को पैरों पर रखें\\r\\nपरिवहन मात्रा 250...</td>\n",
              "    </tr>\n",
              "    <tr>\n",
              "      <th>5167</th>\n",
              "      <td>ham</td>\n",
              "      <td>Subject: 3 / 4 / 2000 and following noms\\r\\nhp...</td>\n",
              "      <td>0</td>\n",
              "      <td>विषय: 3 / 4 / 2000 और निम्नलिखित नामांक\\r\\nएचप...</td>\n",
              "    </tr>\n",
              "    <tr>\n",
              "      <th>5168</th>\n",
              "      <td>ham</td>\n",
              "      <td>Subject: calpine daily gas nomination\\r\\n&gt;\\r\\n...</td>\n",
              "      <td>0</td>\n",
              "      <td>विषय: कैलपाइन दैनिक गैस नामांकन\\r\\n&gt;\\r\\n&gt;\\r\\nज...</td>\n",
              "    </tr>\n",
              "    <tr>\n",
              "      <th>5169</th>\n",
              "      <td>ham</td>\n",
              "      <td>Subject: industrial worksheets for august 2000...</td>\n",
              "      <td>0</td>\n",
              "      <td>विषय: अगस्त 2000 की गतिविधि के लिए औद्योगिक का...</td>\n",
              "    </tr>\n",
              "    <tr>\n",
              "      <th>5170</th>\n",
              "      <td>spam</td>\n",
              "      <td>Subject: important online banking alert\\r\\ndea...</td>\n",
              "      <td>1</td>\n",
              "      <td>विषय: महत्वपूर्ण ऑनलाइन बैंकिंग अलर्ट\\r\\nप्रिय...</td>\n",
              "    </tr>\n",
              "  </tbody>\n",
              "</table>\n",
              "<p>5171 rows × 4 columns</p>\n",
              "</div>\n",
              "    <div class=\"colab-df-buttons\">\n",
              "\n",
              "  <div class=\"colab-df-container\">\n",
              "    <button class=\"colab-df-convert\" onclick=\"convertToInteractive('df-32b5be70-f27c-4daf-9d35-88d54b54c73c')\"\n",
              "            title=\"Convert this dataframe to an interactive table.\"\n",
              "            style=\"display:none;\">\n",
              "\n",
              "  <svg xmlns=\"http://www.w3.org/2000/svg\" height=\"24px\" viewBox=\"0 -960 960 960\">\n",
              "    <path d=\"M120-120v-720h720v720H120Zm60-500h600v-160H180v160Zm220 220h160v-160H400v160Zm0 220h160v-160H400v160ZM180-400h160v-160H180v160Zm440 0h160v-160H620v160ZM180-180h160v-160H180v160Zm440 0h160v-160H620v160Z\"/>\n",
              "  </svg>\n",
              "    </button>\n",
              "\n",
              "  <style>\n",
              "    .colab-df-container {\n",
              "      display:flex;\n",
              "      gap: 12px;\n",
              "    }\n",
              "\n",
              "    .colab-df-convert {\n",
              "      background-color: #E8F0FE;\n",
              "      border: none;\n",
              "      border-radius: 50%;\n",
              "      cursor: pointer;\n",
              "      display: none;\n",
              "      fill: #1967D2;\n",
              "      height: 32px;\n",
              "      padding: 0 0 0 0;\n",
              "      width: 32px;\n",
              "    }\n",
              "\n",
              "    .colab-df-convert:hover {\n",
              "      background-color: #E2EBFA;\n",
              "      box-shadow: 0px 1px 2px rgba(60, 64, 67, 0.3), 0px 1px 3px 1px rgba(60, 64, 67, 0.15);\n",
              "      fill: #174EA6;\n",
              "    }\n",
              "\n",
              "    .colab-df-buttons div {\n",
              "      margin-bottom: 4px;\n",
              "    }\n",
              "\n",
              "    [theme=dark] .colab-df-convert {\n",
              "      background-color: #3B4455;\n",
              "      fill: #D2E3FC;\n",
              "    }\n",
              "\n",
              "    [theme=dark] .colab-df-convert:hover {\n",
              "      background-color: #434B5C;\n",
              "      box-shadow: 0px 1px 3px 1px rgba(0, 0, 0, 0.15);\n",
              "      filter: drop-shadow(0px 1px 2px rgba(0, 0, 0, 0.3));\n",
              "      fill: #FFFFFF;\n",
              "    }\n",
              "  </style>\n",
              "\n",
              "    <script>\n",
              "      const buttonEl =\n",
              "        document.querySelector('#df-32b5be70-f27c-4daf-9d35-88d54b54c73c button.colab-df-convert');\n",
              "      buttonEl.style.display =\n",
              "        google.colab.kernel.accessAllowed ? 'block' : 'none';\n",
              "\n",
              "      async function convertToInteractive(key) {\n",
              "        const element = document.querySelector('#df-32b5be70-f27c-4daf-9d35-88d54b54c73c');\n",
              "        const dataTable =\n",
              "          await google.colab.kernel.invokeFunction('convertToInteractive',\n",
              "                                                    [key], {});\n",
              "        if (!dataTable) return;\n",
              "\n",
              "        const docLinkHtml = 'Like what you see? Visit the ' +\n",
              "          '<a target=\"_blank\" href=https://colab.research.google.com/notebooks/data_table.ipynb>data table notebook</a>'\n",
              "          + ' to learn more about interactive tables.';\n",
              "        element.innerHTML = '';\n",
              "        dataTable['output_type'] = 'display_data';\n",
              "        await google.colab.output.renderOutput(dataTable, element);\n",
              "        const docLink = document.createElement('div');\n",
              "        docLink.innerHTML = docLinkHtml;\n",
              "        element.appendChild(docLink);\n",
              "      }\n",
              "    </script>\n",
              "  </div>\n",
              "\n",
              "\n",
              "<div id=\"df-1de1893a-eb29-4f04-8240-65afc528a6c3\">\n",
              "  <button class=\"colab-df-quickchart\" onclick=\"quickchart('df-1de1893a-eb29-4f04-8240-65afc528a6c3')\"\n",
              "            title=\"Suggest charts.\"\n",
              "            style=\"display:none;\">\n",
              "\n",
              "<svg xmlns=\"http://www.w3.org/2000/svg\" height=\"24px\"viewBox=\"0 0 24 24\"\n",
              "     width=\"24px\">\n",
              "    <g>\n",
              "        <path d=\"M19 3H5c-1.1 0-2 .9-2 2v14c0 1.1.9 2 2 2h14c1.1 0 2-.9 2-2V5c0-1.1-.9-2-2-2zM9 17H7v-7h2v7zm4 0h-2V7h2v10zm4 0h-2v-4h2v4z\"/>\n",
              "    </g>\n",
              "</svg>\n",
              "  </button>\n",
              "\n",
              "<style>\n",
              "  .colab-df-quickchart {\n",
              "    background-color: #E8F0FE;\n",
              "    border: none;\n",
              "    border-radius: 50%;\n",
              "    cursor: pointer;\n",
              "    display: none;\n",
              "    fill: #1967D2;\n",
              "    height: 32px;\n",
              "    padding: 0 0 0 0;\n",
              "    width: 32px;\n",
              "  }\n",
              "\n",
              "  .colab-df-quickchart:hover {\n",
              "    background-color: #E2EBFA;\n",
              "    box-shadow: 0px 1px 2px rgba(60, 64, 67, 0.3), 0px 1px 3px 1px rgba(60, 64, 67, 0.15);\n",
              "    fill: #174EA6;\n",
              "  }\n",
              "\n",
              "  [theme=dark] .colab-df-quickchart {\n",
              "    background-color: #3B4455;\n",
              "    fill: #D2E3FC;\n",
              "  }\n",
              "\n",
              "  [theme=dark] .colab-df-quickchart:hover {\n",
              "    background-color: #434B5C;\n",
              "    box-shadow: 0px 1px 3px 1px rgba(0, 0, 0, 0.15);\n",
              "    filter: drop-shadow(0px 1px 2px rgba(0, 0, 0, 0.3));\n",
              "    fill: #FFFFFF;\n",
              "  }\n",
              "</style>\n",
              "\n",
              "  <script>\n",
              "    async function quickchart(key) {\n",
              "      const charts = await google.colab.kernel.invokeFunction(\n",
              "          'suggestCharts', [key], {});\n",
              "    }\n",
              "    (() => {\n",
              "      let quickchartButtonEl =\n",
              "        document.querySelector('#df-1de1893a-eb29-4f04-8240-65afc528a6c3 button');\n",
              "      quickchartButtonEl.style.display =\n",
              "        google.colab.kernel.accessAllowed ? 'block' : 'none';\n",
              "    })();\n",
              "  </script>\n",
              "</div>\n",
              "    </div>\n",
              "  </div>\n"
            ]
          },
          "metadata": {},
          "execution_count": 3
        }
      ],
      "source": [
        "df.drop(['Unnamed: 0.1','Unnamed: 0'],axis=1,inplace=True)\n",
        "df"
      ]
    },
    {
      "cell_type": "code",
      "execution_count": 4,
      "id": "fe5df6f0",
      "metadata": {
        "id": "fe5df6f0"
      },
      "outputs": [],
      "source": [
        "x , y = df['Hindi'] , df['label']"
      ]
    },
    {
      "cell_type": "code",
      "execution_count": 5,
      "id": "57e52262",
      "metadata": {
        "scrolled": true,
        "id": "57e52262",
        "outputId": "f8ca4083-9e68-4560-e0f4-d6aa831f4e56",
        "colab": {
          "base_uri": "https://localhost:8080/"
        }
      },
      "outputs": [
        {
          "output_type": "execute_result",
          "data": {
            "text/plain": [
              "((5171,), (5171,))"
            ]
          },
          "metadata": {},
          "execution_count": 5
        }
      ],
      "source": [
        "x.shape,y.shape"
      ]
    },
    {
      "cell_type": "code",
      "execution_count": 6,
      "id": "5fc66ce8",
      "metadata": {
        "scrolled": true,
        "id": "5fc66ce8",
        "outputId": "694c63bd-4058-468a-bee0-d8dfa6017706",
        "colab": {
          "base_uri": "https://localhost:8080/"
        }
      },
      "outputs": [
        {
          "output_type": "execute_result",
          "data": {
            "text/plain": [
              "0    विषय: एनरॉन मेथनॉल; मीटर # : 988291\\r\\nयह उस न...\n",
              "1    विषय: 9 जनवरी 2001 के लिए एचपीएल नामांकन\\r\\n(स...\n",
              "2    विषय: नियॉन रिट्रीट\\r\\nहो हो हो, हम वर्ष के उस...\n",
              "3    विषय: फ़ोटोशॉप, विंडोज़, कार्यालय। सस्ता । मुख...\n",
              "4    विषय: पुन: भारतीय स्प्रिंग्स\\r\\nयह डील टेको पी...\n",
              "Name: Hindi, dtype: object"
            ]
          },
          "metadata": {},
          "execution_count": 6
        }
      ],
      "source": [
        "x.head()"
      ]
    },
    {
      "cell_type": "code",
      "execution_count": 7,
      "id": "a5a5cec1",
      "metadata": {
        "id": "a5a5cec1"
      },
      "outputs": [],
      "source": [
        "import nltk"
      ]
    },
    {
      "cell_type": "code",
      "execution_count": 8,
      "id": "7bcc1871",
      "metadata": {
        "id": "7bcc1871",
        "outputId": "ed45620b-fcbd-4991-ebc2-cd7f873bb4cf",
        "colab": {
          "base_uri": "https://localhost:8080/"
        }
      },
      "outputs": [
        {
          "output_type": "stream",
          "name": "stderr",
          "text": [
            "/usr/local/lib/python3.10/dist-packages/sklearn/feature_extraction/text.py:528: UserWarning: The parameter 'token_pattern' will not be used since 'tokenizer' is not None'\n",
            "  warnings.warn(\n"
          ]
        }
      ],
      "source": [
        "from sklearn.feature_extraction.text import TfidfVectorizer\n",
        "\n",
        "def hindi_tokenizer(text):\n",
        "    words = nltk.word_tokenize(text,language='hindi',preserve_line=True)\n",
        "    return words\n",
        "\n",
        "tfidf = TfidfVectorizer(tokenizer=hindi_tokenizer)\n",
        "x_vect = tfidf.fit_transform(x)"
      ]
    },
    {
      "cell_type": "code",
      "execution_count": 9,
      "id": "7d86b04f",
      "metadata": {
        "id": "7d86b04f",
        "outputId": "9e8852db-92fd-4013-be4b-d4dd1e441434",
        "colab": {
          "base_uri": "https://localhost:8080/"
        }
      },
      "outputs": [
        {
          "output_type": "execute_result",
          "data": {
            "text/plain": [
              "(5171, 60550)"
            ]
          },
          "metadata": {},
          "execution_count": 9
        }
      ],
      "source": [
        "x_vect.shape"
      ]
    },
    {
      "cell_type": "code",
      "execution_count": 10,
      "id": "1bc5196a",
      "metadata": {
        "id": "1bc5196a",
        "outputId": "097c619c-017d-480c-dfe5-5808724330a0",
        "colab": {
          "base_uri": "https://localhost:8080/"
        }
      },
      "outputs": [
        {
          "output_type": "execute_result",
          "data": {
            "text/plain": [
              "array([[0.        , 0.08176894, 0.        , ..., 0.        , 0.        ,\n",
              "        0.        ],\n",
              "       [0.        , 0.        , 0.        , ..., 0.        , 0.        ,\n",
              "        0.        ],\n",
              "       [0.06984894, 0.        , 0.        , ..., 0.        , 0.        ,\n",
              "        0.        ],\n",
              "       ...,\n",
              "       [0.        , 0.        , 0.        , ..., 0.        , 0.        ,\n",
              "        0.        ],\n",
              "       [0.        , 0.        , 0.        , ..., 0.        , 0.        ,\n",
              "        0.        ],\n",
              "       [0.        , 0.        , 0.        , ..., 0.        , 0.        ,\n",
              "        0.        ]])"
            ]
          },
          "metadata": {},
          "execution_count": 10
        }
      ],
      "source": [
        "x_vect.toarray()"
      ]
    },
    {
      "cell_type": "code",
      "execution_count": 11,
      "id": "756d9b59",
      "metadata": {
        "id": "756d9b59"
      },
      "outputs": [],
      "source": [
        "from sklearn.model_selection import train_test_split\n",
        "x_train, x_test, y_train, y_test = train_test_split(x_vect, y, random_state=0)"
      ]
    },
    {
      "cell_type": "markdown",
      "id": "0740ef52",
      "metadata": {
        "id": "0740ef52"
      },
      "source": [
        "# Model building"
      ]
    },
    {
      "cell_type": "code",
      "execution_count": 12,
      "id": "daa69cec",
      "metadata": {
        "id": "daa69cec"
      },
      "outputs": [],
      "source": [
        "from sklearn.svm import SVC\n",
        "from sklearn.metrics import accuracy_score"
      ]
    },
    {
      "cell_type": "code",
      "execution_count": 13,
      "id": "33537f42",
      "metadata": {
        "id": "33537f42"
      },
      "outputs": [],
      "source": [
        "svm = SVC(kernel='linear',random_state=0)"
      ]
    },
    {
      "cell_type": "code",
      "execution_count": 14,
      "id": "9b9e5742",
      "metadata": {
        "id": "9b9e5742",
        "outputId": "68643138-d1b9-4013-fe4a-2664f3cb5215",
        "colab": {
          "base_uri": "https://localhost:8080/",
          "height": 75
        }
      },
      "outputs": [
        {
          "output_type": "execute_result",
          "data": {
            "text/plain": [
              "SVC(kernel='linear', random_state=0)"
            ],
            "text/html": [
              "<style>#sk-container-id-1 {color: black;background-color: white;}#sk-container-id-1 pre{padding: 0;}#sk-container-id-1 div.sk-toggleable {background-color: white;}#sk-container-id-1 label.sk-toggleable__label {cursor: pointer;display: block;width: 100%;margin-bottom: 0;padding: 0.3em;box-sizing: border-box;text-align: center;}#sk-container-id-1 label.sk-toggleable__label-arrow:before {content: \"▸\";float: left;margin-right: 0.25em;color: #696969;}#sk-container-id-1 label.sk-toggleable__label-arrow:hover:before {color: black;}#sk-container-id-1 div.sk-estimator:hover label.sk-toggleable__label-arrow:before {color: black;}#sk-container-id-1 div.sk-toggleable__content {max-height: 0;max-width: 0;overflow: hidden;text-align: left;background-color: #f0f8ff;}#sk-container-id-1 div.sk-toggleable__content pre {margin: 0.2em;color: black;border-radius: 0.25em;background-color: #f0f8ff;}#sk-container-id-1 input.sk-toggleable__control:checked~div.sk-toggleable__content {max-height: 200px;max-width: 100%;overflow: auto;}#sk-container-id-1 input.sk-toggleable__control:checked~label.sk-toggleable__label-arrow:before {content: \"▾\";}#sk-container-id-1 div.sk-estimator input.sk-toggleable__control:checked~label.sk-toggleable__label {background-color: #d4ebff;}#sk-container-id-1 div.sk-label input.sk-toggleable__control:checked~label.sk-toggleable__label {background-color: #d4ebff;}#sk-container-id-1 input.sk-hidden--visually {border: 0;clip: rect(1px 1px 1px 1px);clip: rect(1px, 1px, 1px, 1px);height: 1px;margin: -1px;overflow: hidden;padding: 0;position: absolute;width: 1px;}#sk-container-id-1 div.sk-estimator {font-family: monospace;background-color: #f0f8ff;border: 1px dotted black;border-radius: 0.25em;box-sizing: border-box;margin-bottom: 0.5em;}#sk-container-id-1 div.sk-estimator:hover {background-color: #d4ebff;}#sk-container-id-1 div.sk-parallel-item::after {content: \"\";width: 100%;border-bottom: 1px solid gray;flex-grow: 1;}#sk-container-id-1 div.sk-label:hover label.sk-toggleable__label {background-color: #d4ebff;}#sk-container-id-1 div.sk-serial::before {content: \"\";position: absolute;border-left: 1px solid gray;box-sizing: border-box;top: 0;bottom: 0;left: 50%;z-index: 0;}#sk-container-id-1 div.sk-serial {display: flex;flex-direction: column;align-items: center;background-color: white;padding-right: 0.2em;padding-left: 0.2em;position: relative;}#sk-container-id-1 div.sk-item {position: relative;z-index: 1;}#sk-container-id-1 div.sk-parallel {display: flex;align-items: stretch;justify-content: center;background-color: white;position: relative;}#sk-container-id-1 div.sk-item::before, #sk-container-id-1 div.sk-parallel-item::before {content: \"\";position: absolute;border-left: 1px solid gray;box-sizing: border-box;top: 0;bottom: 0;left: 50%;z-index: -1;}#sk-container-id-1 div.sk-parallel-item {display: flex;flex-direction: column;z-index: 1;position: relative;background-color: white;}#sk-container-id-1 div.sk-parallel-item:first-child::after {align-self: flex-end;width: 50%;}#sk-container-id-1 div.sk-parallel-item:last-child::after {align-self: flex-start;width: 50%;}#sk-container-id-1 div.sk-parallel-item:only-child::after {width: 0;}#sk-container-id-1 div.sk-dashed-wrapped {border: 1px dashed gray;margin: 0 0.4em 0.5em 0.4em;box-sizing: border-box;padding-bottom: 0.4em;background-color: white;}#sk-container-id-1 div.sk-label label {font-family: monospace;font-weight: bold;display: inline-block;line-height: 1.2em;}#sk-container-id-1 div.sk-label-container {text-align: center;}#sk-container-id-1 div.sk-container {/* jupyter's `normalize.less` sets `[hidden] { display: none; }` but bootstrap.min.css set `[hidden] { display: none !important; }` so we also need the `!important` here to be able to override the default hidden behavior on the sphinx rendered scikit-learn.org. See: https://github.com/scikit-learn/scikit-learn/issues/21755 */display: inline-block !important;position: relative;}#sk-container-id-1 div.sk-text-repr-fallback {display: none;}</style><div id=\"sk-container-id-1\" class=\"sk-top-container\"><div class=\"sk-text-repr-fallback\"><pre>SVC(kernel=&#x27;linear&#x27;, random_state=0)</pre><b>In a Jupyter environment, please rerun this cell to show the HTML representation or trust the notebook. <br />On GitHub, the HTML representation is unable to render, please try loading this page with nbviewer.org.</b></div><div class=\"sk-container\" hidden><div class=\"sk-item\"><div class=\"sk-estimator sk-toggleable\"><input class=\"sk-toggleable__control sk-hidden--visually\" id=\"sk-estimator-id-1\" type=\"checkbox\" checked><label for=\"sk-estimator-id-1\" class=\"sk-toggleable__label sk-toggleable__label-arrow\">SVC</label><div class=\"sk-toggleable__content\"><pre>SVC(kernel=&#x27;linear&#x27;, random_state=0)</pre></div></div></div></div></div>"
            ]
          },
          "metadata": {},
          "execution_count": 14
        }
      ],
      "source": [
        "svm.fit(x_train,y_train)"
      ]
    },
    {
      "cell_type": "code",
      "execution_count": 15,
      "id": "133ea8f2",
      "metadata": {
        "id": "133ea8f2"
      },
      "outputs": [],
      "source": [
        "y_pred = svm.predict(x_test)"
      ]
    },
    {
      "cell_type": "code",
      "execution_count": 16,
      "id": "6693f382",
      "metadata": {
        "id": "6693f382",
        "outputId": "82c62b68-9773-45dd-dcdb-bf9d57b08b4a",
        "colab": {
          "base_uri": "https://localhost:8080/"
        }
      },
      "outputs": [
        {
          "output_type": "execute_result",
          "data": {
            "text/plain": [
              "0.9806651198762568"
            ]
          },
          "metadata": {},
          "execution_count": 16
        }
      ],
      "source": [
        "accuracy_score(y_test,y_pred)"
      ]
    },
    {
      "cell_type": "markdown",
      "id": "eb7f084c",
      "metadata": {
        "id": "eb7f084c"
      },
      "source": [
        "# Classification Using Deep Learning"
      ]
    },
    {
      "cell_type": "code",
      "execution_count": 17,
      "id": "087e4776",
      "metadata": {
        "id": "087e4776"
      },
      "outputs": [],
      "source": [
        "x , y = df['Hindi'] , df['label']"
      ]
    },
    {
      "cell_type": "code",
      "execution_count": 18,
      "id": "42bc585e",
      "metadata": {
        "id": "42bc585e"
      },
      "outputs": [],
      "source": [
        "from sklearn.preprocessing import LabelEncoder"
      ]
    },
    {
      "cell_type": "code",
      "execution_count": 19,
      "id": "cea419fd",
      "metadata": {
        "id": "cea419fd"
      },
      "outputs": [],
      "source": [
        "lbl = LabelEncoder()\n",
        "y = lbl.fit_transform(y)"
      ]
    },
    {
      "cell_type": "code",
      "execution_count": 20,
      "id": "0e5ae56b",
      "metadata": {
        "id": "0e5ae56b"
      },
      "outputs": [],
      "source": [
        "X_train,X_test,y_train,y_test = train_test_split(x,y,test_size=0.2)"
      ]
    },
    {
      "cell_type": "code",
      "execution_count": 21,
      "id": "c6fbf2d9",
      "metadata": {
        "id": "c6fbf2d9",
        "outputId": "108c8aff-b800-4b77-bc1f-e1bdc1d74669",
        "colab": {
          "base_uri": "https://localhost:8080/"
        }
      },
      "outputs": [
        {
          "output_type": "execute_result",
          "data": {
            "text/plain": [
              "(4136,)"
            ]
          },
          "metadata": {},
          "execution_count": 21
        }
      ],
      "source": [
        "X_train.shape"
      ]
    },
    {
      "cell_type": "code",
      "execution_count": 22,
      "id": "21fe227c",
      "metadata": {
        "id": "21fe227c"
      },
      "outputs": [],
      "source": [
        "X_train = X_train.to_numpy()\n",
        "X_test = X_test.to_numpy()"
      ]
    },
    {
      "cell_type": "code",
      "execution_count": 23,
      "id": "998e9260",
      "metadata": {
        "id": "998e9260",
        "outputId": "f7a36ce1-b533-4c6d-c4ac-29f17bf160d5",
        "colab": {
          "base_uri": "https://localhost:8080/"
        }
      },
      "outputs": [
        {
          "output_type": "execute_result",
          "data": {
            "text/plain": [
              "array(['विषय: असफल सौदे\\r\\nहाय डेरेन,\\r\\nहमारी फोन पर हुई बातचीत के अनुसार मैंने आपको एक फैक्स भेजा था, लेकिन मैं आपको इसकी जानकारी भी देना चाहता था\\r\\nअसफल सौदों की एक इलेक्ट्रॉनिक प्रति रखें जिसे बुक करने की आवश्यकता है\\r\\nसितारा. विचाराधीन छह ट्रेडों का विवरण संलग्न है। धन्यवाद !\\r\\nटॉरे मूरर (x 36218)',\n",
              "       'विषय: 4/00 के लिए एनटेक्स संशोधित अनुमान\\r\\nमुझे लगता है कि फ़ाइल संलग्न करना बेहतर होगा।\\r\\nगैरी\\r\\n- - - - - - - - - - - - - - - - - - - - - 04/28/2000 11:26 को गैरी ए हैंक्स/एचओयू/ईसीटी द्वारा अग्रेषित\\r\\nपूर्वाह्न - - - - - - - - - - - - - - - - - - - - - - - - - - -\\r\\nएनरॉन उत्तरी अमेरिका कॉर्प.\\r\\nप्रेषक : गैरी ए हैंक्स 04 / 28 / 2000 11 : 27 पूर्वाह्न\\r\\nसेवा में: डेरेन जे किसान / एचओयू / ईसीटी @ ईसीटी, अमी चोकसी / कॉर्प / एनरॉन @ एनरॉन\\r\\nसीसी :\\r\\nविषय: 4/00 के लिए एंटेक्स संशोधित अनुमान\\r\\nसंलग्न स्प्रेडशीट में एंटेक्स सिटीगेट लोड के लिए संशोधित अनुमान हैं\\r\\nअप्रैल के लिए. अगर आपको चाहिए कि मैं पॉप्स के साथ मिलूं/सही करने या बदलने के लिए एकजुट हो जाऊं\\r\\nअनुमान कृपया मुझे कॉल करें।\\r\\nधन्यवाद\\r\\nगैरी',\n",
              "       'विषय: यह हास्यास्पद है!\\r\\nएक मिनट रुकें और (800) 578-7453 पर कॉल करें और भूरे का अभिवादन सुनें\\r\\nऔर विलियमसन तंबाकू कंपनी। उस बिंदु पर जहां आपसे एक का चयन करने के लिए कहा जाता है\\r\\nविस्तार, लटकाओ।\\r\\nडेविड हेनेके\\r\\nधेनेके@टीस्टील। कॉम',\n",
              "       ...,\n",
              "       'विषय: परिचालन कंपनियों में परिवर्तन\\r\\nकृपया डेरेन फार्मर और स्टेसी दोनों के लिए परिचालन कंपनियां रखें\\r\\nन्यूवेइलर एनरॉन उत्तरी अमेरिका (सीओ 413) से ह्यूस्टन पाइपलाइन कंपनी में स्थानांतरित हो गया\\r\\n(012) यथाशीघ्र। इसके अतिरिक्त, यदि संभव हो, तो कृपया पेरोल सुनिश्चित करें कि उनका\\r\\nवेतन सामाजिक सुरक्षा पर दोगुना नहीं है। का व्यावसायिक कारण\\r\\nयह कदम रेलवे आयोग की आचार संहिता के अनुपालन के लिए है। वहाँ\\r\\nडैरेन के आरसी में एक अन्य कर्मचारी अमी चोकसी भी हैं, जिन्हें वहीं रहना होगा\\r\\nजब तक मुझे कानूनी तौर पर कोई फैसला नहीं मिल जाता। आरसी वही रहती है, 1497।\\r\\nइसके अतिरिक्त, यह मेरी समझ है कि एकाधिक के साथ कोई समस्या नहीं है\\r\\nएक समूह के भीतर कंपनियों का संचालन।\\r\\nअगर आपको और कुछ चाहिए तो मुझे बताएं।',\n",
              "       'विषय: पुनः: टीएक्सयू 01 मई\\r\\nयह सौदा 1856 के अनुबंध पर नहीं किया गया था, 15,000 उस समय सीधे एल पासो मर्चेंट को बेच दिया गया था। 30 और 31 तारीख के लिए यह प्रतिदिन 15,000 था।\\r\\nअगर आपको और कुछ चाहिए तो मुझे बताएं।\\r\\nमाइक\\r\\n- - - - - वास्तविक सन्देश - - - - -\\r\\nप्रेषक: बील, एंटोनेट\\r\\nभेजा गया: बुधवार, अक्टूबर 03, 2001 12:48 अपराह्न\\r\\nसेवा में: ऑलसेन, माइकल\\r\\nसीसी: पार्कर, मेगन; किसान, डेरेन जे.\\r\\nविषय: टीएक्सयू 01 मई\\r\\nमाइक,\\r\\nमेरे पास txu के साथ निम्नलिखित बकाया समस्या है:\\r\\n01 मई - अनुबंध 1856\\r\\nप्राप्ति बिंदु 175054701 के साथ 19087 एमएमबीटीयूएस के लिए डिलीवरी 17054701 पर एक पथ की आवश्यकता है।\\r\\nधन्यवाद !',\n",
              "       'विषय: कॉर्नशकर\\r\\nयहां वे बिंदु हैं जिन पर आपूर्तिकर्ता द्वारा सितंबर के लिए गैस नामांकित की जानी है:\\r\\nविलियम्स :\\r\\nएल पासो 15,000\\r\\nलोमैक्स स्टर्लिंग 4, 500\\r\\nदिल्ली कायनोसा 5, 500\\r\\nअपाचे (सिनर्जी द्वारा):\\r\\nदिल्ली 6,000\\r\\nलोमैक्स स्टर्लिंग 14,000\\r\\n(नैन्सी स्टिवर्स के अनुसार)\\r\\nनामांकन पूरा होने पर उसे मुझे भेजना होगा।\\r\\nधन्यवाद ,\\r\\nनिशान\\r\\nx 33396'],\n",
              "      dtype=object)"
            ]
          },
          "metadata": {},
          "execution_count": 23
        }
      ],
      "source": [
        "X_train"
      ]
    },
    {
      "cell_type": "code",
      "execution_count": 24,
      "id": "d30d8c8c",
      "metadata": {
        "id": "d30d8c8c"
      },
      "outputs": [],
      "source": [
        "y_train , y_test = np.array(y_train), np.array(y_test)"
      ]
    },
    {
      "cell_type": "code",
      "execution_count": 25,
      "id": "90716bdc",
      "metadata": {
        "id": "90716bdc"
      },
      "outputs": [],
      "source": [
        "def preprocess_text(text):\n",
        "    # You may need to implement more advanced preprocessing steps\n",
        "    return text.split()\n",
        "\n",
        "# Convert text data to numerical data\n",
        "vocab = set()\n",
        "for text in x:\n",
        "    tokens = preprocess_text(text)\n",
        "    vocab.update(tokens)"
      ]
    },
    {
      "cell_type": "code",
      "execution_count": 26,
      "id": "c87a4f01",
      "metadata": {
        "id": "c87a4f01"
      },
      "outputs": [],
      "source": [
        "vocab_size = len(vocab)\n",
        "embedding_dim = 100  # you may need to change this according to your task 100 is standard value\n",
        "max_length = max(len(seq) for seq in x)\n",
        "trunc_type= 'post'"
      ]
    },
    {
      "cell_type": "code",
      "execution_count": 27,
      "id": "f9065db6",
      "metadata": {
        "id": "f9065db6"
      },
      "outputs": [],
      "source": [
        "import tensorflow as tf"
      ]
    },
    {
      "cell_type": "code",
      "execution_count": 28,
      "id": "801694e1",
      "metadata": {
        "id": "801694e1"
      },
      "outputs": [],
      "source": [
        "# trn_snt = []\n",
        "# tst_snt = []\n",
        "\n",
        "# for i in X_train:\n",
        "#     i = tf.strings.as_string(i)\n",
        "#     trn_snt.append(str(i.numpy()))\n",
        "\n",
        "# for j in X_test:\n",
        "#     j = tf.strings.as_string(j)\n",
        "#     trn_snt.append(str(i.numpy()))"
      ]
    },
    {
      "cell_type": "code",
      "source": [
        "from keras.utils import pad_sequences\n",
        "from keras.preprocessing.text import Tokenizer\n"
      ],
      "metadata": {
        "id": "pbYD2yHCvxPQ"
      },
      "id": "pbYD2yHCvxPQ",
      "execution_count": 29,
      "outputs": []
    },
    {
      "cell_type": "code",
      "source": [
        "import keras\n",
        "import tensorflow as tf\n",
        "\n",
        "print(keras.__version__)\n",
        "print(tf.__version__)"
      ],
      "metadata": {
        "colab": {
          "base_uri": "https://localhost:8080/"
        },
        "id": "z4rj9V1pwffK",
        "outputId": "a4cc3f6b-5ada-41b3-9906-949229991a5b"
      },
      "id": "z4rj9V1pwffK",
      "execution_count": 30,
      "outputs": [
        {
          "output_type": "stream",
          "name": "stdout",
          "text": [
            "2.12.0\n",
            "2.12.0\n"
          ]
        }
      ]
    },
    {
      "cell_type": "code",
      "source": [
        "from tensorflow.keras.preprocessing.sequence import pad_sequences\n"
      ],
      "metadata": {
        "id": "4tkzlvIIwloC"
      },
      "id": "4tkzlvIIwloC",
      "execution_count": 31,
      "outputs": []
    },
    {
      "cell_type": "code",
      "execution_count": 32,
      "id": "41d4c9cb",
      "metadata": {
        "id": "41d4c9cb",
        "outputId": "11e73040-bde8-4b10-d844-a2072557c741",
        "colab": {
          "base_uri": "https://localhost:8080/"
        }
      },
      "outputs": [
        {
          "output_type": "execute_result",
          "data": {
            "text/plain": [
              "53554"
            ]
          },
          "metadata": {},
          "execution_count": 32
        }
      ],
      "source": [
        "tokenizer = Tokenizer(num_words=vocab_size)\n",
        "tokenizer.fit_on_texts(X_train)\n",
        "word_idx = tokenizer.word_index\n",
        "len(word_idx)"
      ]
    },
    {
      "cell_type": "code",
      "execution_count": 33,
      "id": "b8236b14",
      "metadata": {
        "id": "b8236b14"
      },
      "outputs": [],
      "source": [
        "trn_seq = tokenizer.texts_to_sequences(X_train)\n",
        "trn_pad = pad_sequences(trn_seq,maxlen=max_length,truncating=trunc_type)\n",
        "\n",
        "tst_seq = tokenizer.texts_to_sequences(X_test)\n",
        "tst_pad = pad_sequences(tst_seq,maxlen=max_length)"
      ]
    },
    {
      "cell_type": "code",
      "execution_count": 34,
      "id": "997c74f2",
      "metadata": {
        "id": "997c74f2"
      },
      "outputs": [],
      "source": [
        "from keras.models import Sequential\n",
        "from keras.layers import Dense, SimpleRNN, Embedding"
      ]
    },
    {
      "cell_type": "markdown",
      "id": "d4181993",
      "metadata": {
        "id": "d4181993"
      },
      "source": [
        "### Using RNN"
      ]
    },
    {
      "cell_type": "code",
      "execution_count": 35,
      "id": "2131c37a",
      "metadata": {
        "id": "2131c37a",
        "outputId": "baf4cabd-165f-4830-bf30-7909d566dcf0",
        "colab": {
          "base_uri": "https://localhost:8080/"
        }
      },
      "outputs": [
        {
          "output_type": "stream",
          "name": "stdout",
          "text": [
            "Model: \"sequential\"\n",
            "_________________________________________________________________\n",
            " Layer (type)                Output Shape              Param #   \n",
            "=================================================================\n",
            " embedding (Embedding)       (None, 32258, 100)        7139300   \n",
            "                                                                 \n",
            " simple_rnn (SimpleRNN)      (None, 32)                4256      \n",
            "                                                                 \n",
            " dense (Dense)               (None, 10)                330       \n",
            "                                                                 \n",
            " dense_1 (Dense)             (None, 1)                 11        \n",
            "                                                                 \n",
            "=================================================================\n",
            "Total params: 7,143,897\n",
            "Trainable params: 7,143,897\n",
            "Non-trainable params: 0\n",
            "_________________________________________________________________\n"
          ]
        }
      ],
      "source": [
        "model_rnn = Sequential([\n",
        "    Embedding(vocab_size, embedding_dim,\n",
        "                             input_length=max_length),\n",
        "    SimpleRNN(32),\n",
        "    Dense(10, activation='relu'),\n",
        "    Dense(1, activation='sigmoid')\n",
        "])\n",
        "model_rnn.summary()"
      ]
    },
    {
      "cell_type": "code",
      "execution_count": 53,
      "id": "6d42e8c0",
      "metadata": {
        "id": "6d42e8c0"
      },
      "outputs": [],
      "source": [
        "model_rnn.compile(loss='binary_crossentropy',\n",
        "              optimizer='adam',\n",
        "              metrics=['accuracy'])"
      ]
    },
    {
      "cell_type": "code",
      "execution_count": 37,
      "id": "dea8aaa5",
      "metadata": {
        "id": "dea8aaa5",
        "outputId": "857dd839-67ee-49cf-dce3-cf090551b1df",
        "colab": {
          "base_uri": "https://localhost:8080/"
        }
      },
      "outputs": [
        {
          "output_type": "stream",
          "name": "stdout",
          "text": [
            "130/130 [==============================] - 13888s 107s/step - loss: 0.5067 - accuracy: 0.7389 - val_loss: 0.4036 - val_accuracy: 0.7990\n"
          ]
        }
      ],
      "source": [
        "history = model_rnn.fit(trn_pad, y_train, epochs=1,\n",
        "                  validation_data = (tst_pad, y_test),verbose=1)"
      ]
    },
    {
      "cell_type": "code",
      "execution_count": 38,
      "id": "c3c59d82",
      "metadata": {
        "id": "c3c59d82",
        "colab": {
          "base_uri": "https://localhost:8080/",
          "height": 881
        },
        "outputId": "a3fbde9f-b72f-4892-8f61-668feb0f5c99"
      },
      "outputs": [
        {
          "output_type": "display_data",
          "data": {
            "text/plain": [
              "<Figure size 640x480 with 1 Axes>"
            ],
            "image/png": "[encoded data removed]"
          },
          "metadata": {}
        },
        {
          "output_type": "display_data",
          "data": {
            "text/plain": [
              "<Figure size 640x480 with 1 Axes>"
            ],
            "image/png": "[encoded data removed]"
          },
          "metadata": {}
        }
      ],
      "source": [
        "import matplotlib.pyplot as plt\n",
        "def plot_graphs(history, string):\n",
        "    plt.plot(history.history[string])\n",
        "    plt.plot(history.history['val_'+string])\n",
        "    plt.xlabel(\"Epochs\")\n",
        "    plt.ylabel(string)\n",
        "    plt.legend([string, 'val_'+string])\n",
        "    plt.show()\n",
        "\n",
        "plot_graphs(history, 'accuracy')\n",
        "plot_graphs(history, 'loss')"
      ]
    },
    {
      "cell_type": "markdown",
      "id": "a9dfabf1",
      "metadata": {
        "id": "a9dfabf1"
      },
      "source": [
        "### Using GRU"
      ]
    },
    {
      "cell_type": "code",
      "execution_count": 39,
      "id": "7f3e9e20",
      "metadata": {
        "id": "7f3e9e20"
      },
      "outputs": [],
      "source": [
        "from keras.layers import Bidirectional, GRU"
      ]
    },
    {
      "cell_type": "code",
      "execution_count": 40,
      "id": "6d5db760",
      "metadata": {
        "id": "6d5db760"
      },
      "outputs": [],
      "source": [
        "model_gru = Sequential([\n",
        "\n",
        "    Embedding(vocab_size, embedding_dim,\n",
        "                             input_length=max_length),\n",
        "    Bidirectional(GRU(32)),\n",
        "    Dense(10, activation='relu'),\n",
        "    Dense(1, activation='sigmoid')\n",
        "])"
      ]
    },
    {
      "cell_type": "code",
      "execution_count": 41,
      "id": "e9880e37",
      "metadata": {
        "id": "e9880e37",
        "colab": {
          "base_uri": "https://localhost:8080/"
        },
        "outputId": "fec21c47-22be-42ec-b52b-a6e20bffac27"
      },
      "outputs": [
        {
          "output_type": "stream",
          "name": "stdout",
          "text": [
            "Model: \"sequential_1\"\n",
            "_________________________________________________________________\n",
            " Layer (type)                Output Shape              Param #   \n",
            "=================================================================\n",
            " embedding_1 (Embedding)     (None, 32258, 100)        7139300   \n",
            "                                                                 \n",
            " bidirectional (Bidirectiona  (None, 64)               25728     \n",
            " l)                                                              \n",
            "                                                                 \n",
            " dense_2 (Dense)             (None, 10)                650       \n",
            "                                                                 \n",
            " dense_3 (Dense)             (None, 1)                 11        \n",
            "                                                                 \n",
            "=================================================================\n",
            "Total params: 7,165,689\n",
            "Trainable params: 7,165,689\n",
            "Non-trainable params: 0\n",
            "_________________________________________________________________\n"
          ]
        }
      ],
      "source": [
        "model_gru.compile(loss='binary_crossentropy',\n",
        "              optimizer='adam',\n",
        "              metrics=['accuracy'])\n",
        "\n",
        "model_gru.summary()"
      ]
    },
    {
      "cell_type": "code",
      "execution_count": 42,
      "id": "5c63a1eb",
      "metadata": {
        "id": "5c63a1eb",
        "colab": {
          "base_uri": "https://localhost:8080/"
        },
        "outputId": "0fab773f-7f84-4c9a-c6a3-aee8d53eebbb"
      },
      "outputs": [
        {
          "output_type": "stream",
          "name": "stdout",
          "text": [
            "Epoch 1/5\n",
            "130/130 [==============================] - 213s 2s/step - loss: 0.3648 - accuracy: 0.8375 - val_loss: 0.1488 - val_accuracy: 0.9372\n",
            "Epoch 2/5\n",
            "130/130 [==============================] - 206s 2s/step - loss: 0.0545 - accuracy: 0.9814 - val_loss: 0.1434 - val_accuracy: 0.9536\n",
            "Epoch 3/5\n",
            "130/130 [==============================] - 204s 2s/step - loss: 0.0076 - accuracy: 0.9983 - val_loss: 0.1163 - val_accuracy: 0.9681\n",
            "Epoch 4/5\n",
            "130/130 [==============================] - 202s 2s/step - loss: 0.0025 - accuracy: 0.9995 - val_loss: 0.1195 - val_accuracy: 0.9671\n",
            "Epoch 5/5\n",
            "130/130 [==============================] - 202s 2s/step - loss: 0.0012 - accuracy: 0.9998 - val_loss: 0.1256 - val_accuracy: 0.9681\n"
          ]
        }
      ],
      "source": [
        "history = model_gru.fit(trn_pad, y_train, epochs=5,\n",
        "                  validation_data = (tst_pad, y_test),verbose=1)"
      ]
    },
    {
      "cell_type": "code",
      "execution_count": 43,
      "id": "eff46e3e",
      "metadata": {
        "id": "eff46e3e",
        "colab": {
          "base_uri": "https://localhost:8080/",
          "height": 881
        },
        "outputId": "93e0c7a1-6584-47f7-bbe0-7f07e9fd314c"
      },
      "outputs": [
        {
          "output_type": "display_data",
          "data": {
            "text/plain": [
              "<Figure size 640x480 with 1 Axes>"
            ],
            "image/png": "[encoded data removed]"
          },
          "metadata": {}
        },
        {
          "output_type": "display_data",
          "data": {
            "text/plain": [
              "<Figure size 640x480 with 1 Axes>"
            ],
            "image/png": "[encoded data removed]"
          },
          "metadata": {}
        }
      ],
      "source": [
        "plot_graphs(history, 'accuracy')\n",
        "plot_graphs(history, 'loss')"
      ]
    },
    {
      "cell_type": "markdown",
      "id": "1d1e5104",
      "metadata": {
        "id": "1d1e5104"
      },
      "source": [
        "### Using LSTM"
      ]
    },
    {
      "cell_type": "code",
      "execution_count": 44,
      "id": "21479b29",
      "metadata": {
        "id": "21479b29"
      },
      "outputs": [],
      "source": [
        "from keras.layers import LSTM"
      ]
    },
    {
      "cell_type": "code",
      "execution_count": 45,
      "id": "d6946c41",
      "metadata": {
        "id": "d6946c41",
        "colab": {
          "base_uri": "https://localhost:8080/"
        },
        "outputId": "07177dab-c7bd-4a20-a478-56e3c074ce15"
      },
      "outputs": [
        {
          "output_type": "stream",
          "name": "stdout",
          "text": [
            "Model: \"sequential_2\"\n",
            "_________________________________________________________________\n",
            " Layer (type)                Output Shape              Param #   \n",
            "=================================================================\n",
            " embedding_2 (Embedding)     (None, 32258, 100)        7139300   \n",
            "                                                                 \n",
            " bidirectional_1 (Bidirectio  (None, 64)               34048     \n",
            " nal)                                                            \n",
            "                                                                 \n",
            " dense_4 (Dense)             (None, 10)                650       \n",
            "                                                                 \n",
            " dense_5 (Dense)             (None, 1)                 11        \n",
            "                                                                 \n",
            "=================================================================\n",
            "Total params: 7,174,009\n",
            "Trainable params: 7,174,009\n",
            "Non-trainable params: 0\n",
            "_________________________________________________________________\n"
          ]
        }
      ],
      "source": [
        "model_lstm = Sequential([\n",
        "    Embedding(vocab_size, embedding_dim,\n",
        "                             input_length=max_length),\n",
        "    Bidirectional(LSTM(32)),\n",
        "    Dense(10, activation='relu'),\n",
        "    Dense(1, activation='sigmoid')\n",
        "])\n",
        "model_lstm.summary()"
      ]
    },
    {
      "cell_type": "code",
      "execution_count": 46,
      "id": "fb400919",
      "metadata": {
        "id": "fb400919"
      },
      "outputs": [],
      "source": [
        "model_lstm.compile(loss='binary_crossentropy',\n",
        "              optimizer='adam',\n",
        "              metrics=['accuracy'])"
      ]
    },
    {
      "cell_type": "code",
      "execution_count": 47,
      "id": "20d08809",
      "metadata": {
        "id": "20d08809",
        "colab": {
          "base_uri": "https://localhost:8080/"
        },
        "outputId": "79ce0a09-096b-4f07-a9ab-656c0804d760"
      },
      "outputs": [
        {
          "output_type": "stream",
          "name": "stdout",
          "text": [
            "Epoch 1/5\n",
            "130/130 [==============================] - 214s 2s/step - loss: 0.3286 - accuracy: 0.8513 - val_loss: 0.1311 - val_accuracy: 0.9498\n",
            "Epoch 2/5\n",
            "130/130 [==============================] - 207s 2s/step - loss: 0.0455 - accuracy: 0.9874 - val_loss: 0.0962 - val_accuracy: 0.9633\n",
            "Epoch 3/5\n",
            "130/130 [==============================] - 204s 2s/step - loss: 0.0124 - accuracy: 0.9969 - val_loss: 0.1019 - val_accuracy: 0.9671\n",
            "Epoch 4/5\n",
            "130/130 [==============================] - 205s 2s/step - loss: 0.0036 - accuracy: 0.9995 - val_loss: 0.1059 - val_accuracy: 0.9681\n",
            "Epoch 5/5\n",
            "130/130 [==============================] - 208s 2s/step - loss: 0.0021 - accuracy: 0.9995 - val_loss: 0.1066 - val_accuracy: 0.9700\n"
          ]
        }
      ],
      "source": [
        "history = model_lstm.fit(trn_pad, y_train, epochs=5,\n",
        "                  validation_data = (tst_pad, y_test),verbose=1)"
      ]
    },
    {
      "cell_type": "code",
      "execution_count": 48,
      "id": "7de33c97",
      "metadata": {
        "scrolled": true,
        "id": "7de33c97",
        "colab": {
          "base_uri": "https://localhost:8080/",
          "height": 881
        },
        "outputId": "cc26b0a9-248e-4af4-bb06-5149ecce373d"
      },
      "outputs": [
        {
          "output_type": "display_data",
          "data": {
            "text/plain": [
              "<Figure size 640x480 with 1 Axes>"
            ],
            "image/png": "[encoded data removed]"
          },
          "metadata": {}
        },
        {
          "output_type": "display_data",
          "data": {
            "text/plain": [
              "<Figure size 640x480 with 1 Axes>"
            ],
            "image/png": "[encoded data removed]"
          },
          "metadata": {}
        }
      ],
      "source": [
        "plot_graphs(history, 'accuracy')\n",
        "plot_graphs(history, 'loss')"
      ]
    },
    {
      "cell_type": "markdown",
      "id": "9c896931",
      "metadata": {
        "id": "9c896931"
      },
      "source": [
        "# Ploting curves"
      ]
    },
    {
      "cell_type": "code",
      "execution_count": 49,
      "id": "ea858075",
      "metadata": {
        "id": "ea858075"
      },
      "outputs": [],
      "source": [
        "###------------------\n",
        "### parameters to plot Loss curve\n",
        "###------------------\n",
        "\n",
        "params = {'legend.fontsize' : 'large',\n",
        "          'figure.figsize'  : (12,9),\n",
        "          'axes.labelsize'  : 'x-large',\n",
        "          'axes.titlesize'  :'x-large',\n",
        "          'xtick.labelsize' :'large',\n",
        "          'ytick.labelsize' :'large',\n",
        "         }\n",
        "CMAP = plt.cm.coolwarm\n",
        "\n",
        "plt.rcParams.update(params)\n",
        "\n",
        "###-----------------------------------\n",
        "### Function to plot Loss Curve\n",
        "###-----------------------------------\n",
        "\n",
        "def plot_tf_hist(hist_df):\n",
        "    '''\n",
        "    Args:\n",
        "      hist_df : pandas Dataframe with four columns\n",
        "                For 'x' values, we will use index\n",
        "    '''\n",
        "    fig, axes = plt.subplots(1,2 , figsize = (15,6))\n",
        "\n",
        "    # properties  matplotlib.patch.Patch\n",
        "    props = dict(boxstyle='round', facecolor='aqua', alpha=0.4)\n",
        "    facecolor = 'cyan'\n",
        "    fontsize=12\n",
        "\n",
        "    # Get columns by index to eliminate any column naming error\n",
        "    y1 = hist_df.columns[0]\n",
        "    y2 = hist_df.columns[1]\n",
        "    y3 = hist_df.columns[2]\n",
        "    y4 = hist_df.columns[3]\n",
        "\n",
        "    # Where was min loss\n",
        "    best = hist_df[hist_df[y3] == hist_df[y3].min()]\n",
        "\n",
        "    ax = axes[0]\n",
        "\n",
        "    hist_df.plot(y = [y1,y3], ax = ax, colormap=CMAP)\n",
        "\n",
        "\n",
        "    # little beautification\n",
        "    txtFmt = \"{}: \\n  train: {:6.4f}\\n   test: {:6.4f}\"\n",
        "    txtstr = txtFmt.format(y1.capitalize(),\n",
        "                           hist_df.iloc[-1][y1],\n",
        "                           hist_df.iloc[-1][y3]) #text to plot\n",
        "\n",
        "    # place a text box in upper middle in axes coords\n",
        "    ax.text(0.3, 0.95, txtstr, transform=ax.transAxes, fontsize=fontsize,\n",
        "            verticalalignment='top', bbox=props)\n",
        "\n",
        "    # Mark arrow at lowest\n",
        "    ax.annotate(f'Min: {best[y3].to_numpy()[0]:6.4f}', # text to print\n",
        "                xy=(best.index.to_numpy(), best[y3].to_numpy()[0]), # Arrow start\n",
        "                xytext=(best.index.to_numpy()-1, best[y3].to_numpy()[0]), # location of text\n",
        "                fontsize=fontsize, va='bottom', ha='right',bbox=props, # beautification of text\n",
        "                arrowprops=dict(facecolor=facecolor, shrink=0.05)) # arrow\n",
        "\n",
        "    # Draw vertical line at best value\n",
        "    ax.axvline(x = best.index.to_numpy(), color = 'green', linestyle='-.', lw = 3);\n",
        "\n",
        "    ax.set_xlabel(\"Epochs\")\n",
        "    ax.set_ylabel(y1.capitalize())\n",
        "    ax.set_title('Errors')\n",
        "    ax.grid();\n",
        "    ax.legend(loc = 'upper right') # model legend to upper left\n",
        "\n",
        "    ax = axes[1]\n",
        "\n",
        "    hist_df.plot( y = [y2, y4], ax = ax, colormap=CMAP)\n",
        "\n",
        "    # little beautification\n",
        "    txtFmt = \"{}: \\n  train: {:6.4f}\\n  test:  {:6.4f}\"\n",
        "    txtstr = txtFmt.format(y2.capitalize(),\n",
        "                           hist_df.iloc[-1][y2],\n",
        "                           hist_df.iloc[-1][y4]) #text to plot\n",
        "\n",
        "    # place a text box in upper middle in axes coords\n",
        "    ax.text(0.3, 0.2, txtstr, transform=ax.transAxes, fontsize=fontsize,\n",
        "            verticalalignment='top', bbox=props)\n",
        "\n",
        "    # Mark arrow at lowest\n",
        "    ax.annotate(f'Best: {best[y4].to_numpy()[0]:6.4f}', # text to print\n",
        "                xy=(best.index.to_numpy(), best[y4].to_numpy()[0]), # Arrow start\n",
        "                xytext=(best.index.to_numpy()-1, best[y4].to_numpy()[0]), # location of text\n",
        "                fontsize=fontsize, va='bottom', ha='right',bbox=props, # beautification of text\n",
        "                arrowprops=dict(facecolor=facecolor, shrink=0.05)) # arrow\n",
        "\n",
        "\n",
        "    # Draw vertical line at best value\n",
        "    ax.axvline(x = best.index.to_numpy(), color = 'green', linestyle='-.', lw = 3);\n",
        "\n",
        "    ax.set_xlabel(\"Epochs\")\n",
        "    ax.set_ylabel(y2.capitalize())\n",
        "    ax.grid()\n",
        "    ax.legend(loc = 'lower right')\n",
        "\n",
        "    plt.tight_layout()"
      ]
    },
    {
      "cell_type": "code",
      "execution_count": 50,
      "id": "22fa2fef",
      "metadata": {
        "scrolled": true,
        "id": "22fa2fef",
        "colab": {
          "base_uri": "https://localhost:8080/",
          "height": 206
        },
        "outputId": "c7af29a6-246e-46bd-be8a-ae99a9c69e6a"
      },
      "outputs": [
        {
          "output_type": "execute_result",
          "data": {
            "text/plain": [
              "       loss  accuracy  val_loss  val_accuracy\n",
              "0  0.328576  0.851306  0.131054      0.949758\n",
              "1  0.045544  0.987427  0.096191      0.963285\n",
              "2  0.012442  0.996857  0.101883      0.967150\n",
              "3  0.003623  0.999516  0.105949      0.968116\n",
              "4  0.002129  0.999516  0.106595      0.970048"
            ],
            "text/html": [
              "\n",
              "  <div id=\"df-607604d7-9bdc-46dd-bbbe-ff45d1c0586f\" class=\"colab-df-container\">\n",
              "    <div>\n",
              "<style scoped>\n",
              "    .dataframe tbody tr th:only-of-type {\n",
              "        vertical-align: middle;\n",
              "    }\n",
              "\n",
              "    .dataframe tbody tr th {\n",
              "        vertical-align: top;\n",
              "    }\n",
              "\n",
              "    .dataframe thead th {\n",
              "        text-align: right;\n",
              "    }\n",
              "</style>\n",
              "<table border=\"1\" class=\"dataframe\">\n",
              "  <thead>\n",
              "    <tr style=\"text-align: right;\">\n",
              "      <th></th>\n",
              "      <th>loss</th>\n",
              "      <th>accuracy</th>\n",
              "      <th>val_loss</th>\n",
              "      <th>val_accuracy</th>\n",
              "    </tr>\n",
              "  </thead>\n",
              "  <tbody>\n",
              "    <tr>\n",
              "      <th>0</th>\n",
              "      <td>0.328576</td>\n",
              "      <td>0.851306</td>\n",
              "      <td>0.131054</td>\n",
              "      <td>0.949758</td>\n",
              "    </tr>\n",
              "    <tr>\n",
              "      <th>1</th>\n",
              "      <td>0.045544</td>\n",
              "      <td>0.987427</td>\n",
              "      <td>0.096191</td>\n",
              "      <td>0.963285</td>\n",
              "    </tr>\n",
              "    <tr>\n",
              "      <th>2</th>\n",
              "      <td>0.012442</td>\n",
              "      <td>0.996857</td>\n",
              "      <td>0.101883</td>\n",
              "      <td>0.967150</td>\n",
              "    </tr>\n",
              "    <tr>\n",
              "      <th>3</th>\n",
              "      <td>0.003623</td>\n",
              "      <td>0.999516</td>\n",
              "      <td>0.105949</td>\n",
              "      <td>0.968116</td>\n",
              "    </tr>\n",
              "    <tr>\n",
              "      <th>4</th>\n",
              "      <td>0.002129</td>\n",
              "      <td>0.999516</td>\n",
              "      <td>0.106595</td>\n",
              "      <td>0.970048</td>\n",
              "    </tr>\n",
              "  </tbody>\n",
              "</table>\n",
              "</div>\n",
              "    <div class=\"colab-df-buttons\">\n",
              "\n",
              "  <div class=\"colab-df-container\">\n",
              "    <button class=\"colab-df-convert\" onclick=\"convertToInteractive('df-607604d7-9bdc-46dd-bbbe-ff45d1c0586f')\"\n",
              "            title=\"Convert this dataframe to an interactive table.\"\n",
              "            style=\"display:none;\">\n",
              "\n",
              "  <svg xmlns=\"http://www.w3.org/2000/svg\" height=\"24px\" viewBox=\"0 -960 960 960\">\n",
              "    <path d=\"M120-120v-720h720v720H120Zm60-500h600v-160H180v160Zm220 220h160v-160H400v160Zm0 220h160v-160H400v160ZM180-400h160v-160H180v160Zm440 0h160v-160H620v160ZM180-180h160v-160H180v160Zm440 0h160v-160H620v160Z\"/>\n",
              "  </svg>\n",
              "    </button>\n",
              "\n",
              "  <style>\n",
              "    .colab-df-container {\n",
              "      display:flex;\n",
              "      gap: 12px;\n",
              "    }\n",
              "\n",
              "    .colab-df-convert {\n",
              "      background-color: #E8F0FE;\n",
              "      border: none;\n",
              "      border-radius: 50%;\n",
              "      cursor: pointer;\n",
              "      display: none;\n",
              "      fill: #1967D2;\n",
              "      height: 32px;\n",
              "      padding: 0 0 0 0;\n",
              "      width: 32px;\n",
              "    }\n",
              "\n",
              "    .colab-df-convert:hover {\n",
              "      background-color: #E2EBFA;\n",
              "      box-shadow: 0px 1px 2px rgba(60, 64, 67, 0.3), 0px 1px 3px 1px rgba(60, 64, 67, 0.15);\n",
              "      fill: #174EA6;\n",
              "    }\n",
              "\n",
              "    .colab-df-buttons div {\n",
              "      margin-bottom: 4px;\n",
              "    }\n",
              "\n",
              "    [theme=dark] .colab-df-convert {\n",
              "      background-color: #3B4455;\n",
              "      fill: #D2E3FC;\n",
              "    }\n",
              "\n",
              "    [theme=dark] .colab-df-convert:hover {\n",
              "      background-color: #434B5C;\n",
              "      box-shadow: 0px 1px 3px 1px rgba(0, 0, 0, 0.15);\n",
              "      filter: drop-shadow(0px 1px 2px rgba(0, 0, 0, 0.3));\n",
              "      fill: #FFFFFF;\n",
              "    }\n",
              "  </style>\n",
              "\n",
              "    <script>\n",
              "      const buttonEl =\n",
              "        document.querySelector('#df-607604d7-9bdc-46dd-bbbe-ff45d1c0586f button.colab-df-convert');\n",
              "      buttonEl.style.display =\n",
              "        google.colab.kernel.accessAllowed ? 'block' : 'none';\n",
              "\n",
              "      async function convertToInteractive(key) {\n",
              "        const element = document.querySelector('#df-607604d7-9bdc-46dd-bbbe-ff45d1c0586f');\n",
              "        const dataTable =\n",
              "          await google.colab.kernel.invokeFunction('convertToInteractive',\n",
              "                                                    [key], {});\n",
              "        if (!dataTable) return;\n",
              "\n",
              "        const docLinkHtml = 'Like what you see? Visit the ' +\n",
              "          '<a target=\"_blank\" href=https://colab.research.google.com/notebooks/data_table.ipynb>data table notebook</a>'\n",
              "          + ' to learn more about interactive tables.';\n",
              "        element.innerHTML = '';\n",
              "        dataTable['output_type'] = 'display_data';\n",
              "        await google.colab.output.renderOutput(dataTable, element);\n",
              "        const docLink = document.createElement('div');\n",
              "        docLink.innerHTML = docLinkHtml;\n",
              "        element.appendChild(docLink);\n",
              "      }\n",
              "    </script>\n",
              "  </div>\n",
              "\n",
              "\n",
              "<div id=\"df-f4ed0054-d2e1-4486-a5df-984431c2f283\">\n",
              "  <button class=\"colab-df-quickchart\" onclick=\"quickchart('df-f4ed0054-d2e1-4486-a5df-984431c2f283')\"\n",
              "            title=\"Suggest charts.\"\n",
              "            style=\"display:none;\">\n",
              "\n",
              "<svg xmlns=\"http://www.w3.org/2000/svg\" height=\"24px\"viewBox=\"0 0 24 24\"\n",
              "     width=\"24px\">\n",
              "    <g>\n",
              "        <path d=\"M19 3H5c-1.1 0-2 .9-2 2v14c0 1.1.9 2 2 2h14c1.1 0 2-.9 2-2V5c0-1.1-.9-2-2-2zM9 17H7v-7h2v7zm4 0h-2V7h2v10zm4 0h-2v-4h2v4z\"/>\n",
              "    </g>\n",
              "</svg>\n",
              "  </button>\n",
              "\n",
              "<style>\n",
              "  .colab-df-quickchart {\n",
              "    background-color: #E8F0FE;\n",
              "    border: none;\n",
              "    border-radius: 50%;\n",
              "    cursor: pointer;\n",
              "    display: none;\n",
              "    fill: #1967D2;\n",
              "    height: 32px;\n",
              "    padding: 0 0 0 0;\n",
              "    width: 32px;\n",
              "  }\n",
              "\n",
              "  .colab-df-quickchart:hover {\n",
              "    background-color: #E2EBFA;\n",
              "    box-shadow: 0px 1px 2px rgba(60, 64, 67, 0.3), 0px 1px 3px 1px rgba(60, 64, 67, 0.15);\n",
              "    fill: #174EA6;\n",
              "  }\n",
              "\n",
              "  [theme=dark] .colab-df-quickchart {\n",
              "    background-color: #3B4455;\n",
              "    fill: #D2E3FC;\n",
              "  }\n",
              "\n",
              "  [theme=dark] .colab-df-quickchart:hover {\n",
              "    background-color: #434B5C;\n",
              "    box-shadow: 0px 1px 3px 1px rgba(0, 0, 0, 0.15);\n",
              "    filter: drop-shadow(0px 1px 2px rgba(0, 0, 0, 0.3));\n",
              "    fill: #FFFFFF;\n",
              "  }\n",
              "</style>\n",
              "\n",
              "  <script>\n",
              "    async function quickchart(key) {\n",
              "      const charts = await google.colab.kernel.invokeFunction(\n",
              "          'suggestCharts', [key], {});\n",
              "    }\n",
              "    (() => {\n",
              "      let quickchartButtonEl =\n",
              "        document.querySelector('#df-f4ed0054-d2e1-4486-a5df-984431c2f283 button');\n",
              "      quickchartButtonEl.style.display =\n",
              "        google.colab.kernel.accessAllowed ? 'block' : 'none';\n",
              "    })();\n",
              "  </script>\n",
              "</div>\n",
              "    </div>\n",
              "  </div>\n"
            ]
          },
          "metadata": {},
          "execution_count": 50
        }
      ],
      "source": [
        "hist_df = pd.DataFrame(history.history)\n",
        "hist_df.head()"
      ]
    },
    {
      "cell_type": "code",
      "execution_count": 51,
      "id": "5257b9d3",
      "metadata": {
        "id": "5257b9d3",
        "colab": {
          "base_uri": "https://localhost:8080/",
          "height": 300
        },
        "outputId": "d84f5f11-c90a-4ca7-9cf3-3e2ea70f4fe0"
      },
      "outputs": [
        {
          "output_type": "execute_result",
          "data": {
            "text/plain": [
              "           loss  accuracy  val_loss  val_accuracy\n",
              "count  5.000000  5.000000  5.000000      5.000000\n",
              "mean   0.078463  0.966925  0.108334      0.963671\n",
              "std    0.140914  0.064824  0.013360      0.008158\n",
              "min    0.002129  0.851306  0.096191      0.949758\n",
              "25%    0.003623  0.987427  0.101883      0.963285\n",
              "50%    0.012442  0.996857  0.105949      0.967150\n",
              "75%    0.045544  0.999516  0.106595      0.968116\n",
              "max    0.328576  0.999516  0.131054      0.970048"
            ],
            "text/html": [
              "\n",
              "  <div id=\"df-14ec1d22-6be7-47c7-adf7-97bf0e85347e\" class=\"colab-df-container\">\n",
              "    <div>\n",
              "<style scoped>\n",
              "    .dataframe tbody tr th:only-of-type {\n",
              "        vertical-align: middle;\n",
              "    }\n",
              "\n",
              "    .dataframe tbody tr th {\n",
              "        vertical-align: top;\n",
              "    }\n",
              "\n",
              "    .dataframe thead th {\n",
              "        text-align: right;\n",
              "    }\n",
              "</style>\n",
              "<table border=\"1\" class=\"dataframe\">\n",
              "  <thead>\n",
              "    <tr style=\"text-align: right;\">\n",
              "      <th></th>\n",
              "      <th>loss</th>\n",
              "      <th>accuracy</th>\n",
              "      <th>val_loss</th>\n",
              "      <th>val_accuracy</th>\n",
              "    </tr>\n",
              "  </thead>\n",
              "  <tbody>\n",
              "    <tr>\n",
              "      <th>count</th>\n",
              "      <td>5.000000</td>\n",
              "      <td>5.000000</td>\n",
              "      <td>5.000000</td>\n",
              "      <td>5.000000</td>\n",
              "    </tr>\n",
              "    <tr>\n",
              "      <th>mean</th>\n",
              "      <td>0.078463</td>\n",
              "      <td>0.966925</td>\n",
              "      <td>0.108334</td>\n",
              "      <td>0.963671</td>\n",
              "    </tr>\n",
              "    <tr>\n",
              "      <th>std</th>\n",
              "      <td>0.140914</td>\n",
              "      <td>0.064824</td>\n",
              "      <td>0.013360</td>\n",
              "      <td>0.008158</td>\n",
              "    </tr>\n",
              "    <tr>\n",
              "      <th>min</th>\n",
              "      <td>0.002129</td>\n",
              "      <td>0.851306</td>\n",
              "      <td>0.096191</td>\n",
              "      <td>0.949758</td>\n",
              "    </tr>\n",
              "    <tr>\n",
              "      <th>25%</th>\n",
              "      <td>0.003623</td>\n",
              "      <td>0.987427</td>\n",
              "      <td>0.101883</td>\n",
              "      <td>0.963285</td>\n",
              "    </tr>\n",
              "    <tr>\n",
              "      <th>50%</th>\n",
              "      <td>0.012442</td>\n",
              "      <td>0.996857</td>\n",
              "      <td>0.105949</td>\n",
              "      <td>0.967150</td>\n",
              "    </tr>\n",
              "    <tr>\n",
              "      <th>75%</th>\n",
              "      <td>0.045544</td>\n",
              "      <td>0.999516</td>\n",
              "      <td>0.106595</td>\n",
              "      <td>0.968116</td>\n",
              "    </tr>\n",
              "    <tr>\n",
              "      <th>max</th>\n",
              "      <td>0.328576</td>\n",
              "      <td>0.999516</td>\n",
              "      <td>0.131054</td>\n",
              "      <td>0.970048</td>\n",
              "    </tr>\n",
              "  </tbody>\n",
              "</table>\n",
              "</div>\n",
              "    <div class=\"colab-df-buttons\">\n",
              "\n",
              "  <div class=\"colab-df-container\">\n",
              "    <button class=\"colab-df-convert\" onclick=\"convertToInteractive('df-14ec1d22-6be7-47c7-adf7-97bf0e85347e')\"\n",
              "            title=\"Convert this dataframe to an interactive table.\"\n",
              "            style=\"display:none;\">\n",
              "\n",
              "  <svg xmlns=\"http://www.w3.org/2000/svg\" height=\"24px\" viewBox=\"0 -960 960 960\">\n",
              "    <path d=\"M120-120v-720h720v720H120Zm60-500h600v-160H180v160Zm220 220h160v-160H400v160Zm0 220h160v-160H400v160ZM180-400h160v-160H180v160Zm440 0h160v-160H620v160ZM180-180h160v-160H180v160Zm440 0h160v-160H620v160Z\"/>\n",
              "  </svg>\n",
              "    </button>\n",
              "\n",
              "  <style>\n",
              "    .colab-df-container {\n",
              "      display:flex;\n",
              "      gap: 12px;\n",
              "    }\n",
              "\n",
              "    .colab-df-convert {\n",
              "      background-color: #E8F0FE;\n",
              "      border: none;\n",
              "      border-radius: 50%;\n",
              "      cursor: pointer;\n",
              "      display: none;\n",
              "      fill: #1967D2;\n",
              "      height: 32px;\n",
              "      padding: 0 0 0 0;\n",
              "      width: 32px;\n",
              "    }\n",
              "\n",
              "    .colab-df-convert:hover {\n",
              "      background-color: #E2EBFA;\n",
              "      box-shadow: 0px 1px 2px rgba(60, 64, 67, 0.3), 0px 1px 3px 1px rgba(60, 64, 67, 0.15);\n",
              "      fill: #174EA6;\n",
              "    }\n",
              "\n",
              "    .colab-df-buttons div {\n",
              "      margin-bottom: 4px;\n",
              "    }\n",
              "\n",
              "    [theme=dark] .colab-df-convert {\n",
              "      background-color: #3B4455;\n",
              "      fill: #D2E3FC;\n",
              "    }\n",
              "\n",
              "    [theme=dark] .colab-df-convert:hover {\n",
              "      background-color: #434B5C;\n",
              "      box-shadow: 0px 1px 3px 1px rgba(0, 0, 0, 0.15);\n",
              "      filter: drop-shadow(0px 1px 2px rgba(0, 0, 0, 0.3));\n",
              "      fill: #FFFFFF;\n",
              "    }\n",
              "  </style>\n",
              "\n",
              "    <script>\n",
              "      const buttonEl =\n",
              "        document.querySelector('#df-14ec1d22-6be7-47c7-adf7-97bf0e85347e button.colab-df-convert');\n",
              "      buttonEl.style.display =\n",
              "        google.colab.kernel.accessAllowed ? 'block' : 'none';\n",
              "\n",
              "      async function convertToInteractive(key) {\n",
              "        const element = document.querySelector('#df-14ec1d22-6be7-47c7-adf7-97bf0e85347e');\n",
              "        const dataTable =\n",
              "          await google.colab.kernel.invokeFunction('convertToInteractive',\n",
              "                                                    [key], {});\n",
              "        if (!dataTable) return;\n",
              "\n",
              "        const docLinkHtml = 'Like what you see? Visit the ' +\n",
              "          '<a target=\"_blank\" href=https://colab.research.google.com/notebooks/data_table.ipynb>data table notebook</a>'\n",
              "          + ' to learn more about interactive tables.';\n",
              "        element.innerHTML = '';\n",
              "        dataTable['output_type'] = 'display_data';\n",
              "        await google.colab.output.renderOutput(dataTable, element);\n",
              "        const docLink = document.createElement('div');\n",
              "        docLink.innerHTML = docLinkHtml;\n",
              "        element.appendChild(docLink);\n",
              "      }\n",
              "    </script>\n",
              "  </div>\n",
              "\n",
              "\n",
              "<div id=\"df-51592c6e-081d-46b0-9bd8-d50f7cbf9b84\">\n",
              "  <button class=\"colab-df-quickchart\" onclick=\"quickchart('df-51592c6e-081d-46b0-9bd8-d50f7cbf9b84')\"\n",
              "            title=\"Suggest charts.\"\n",
              "            style=\"display:none;\">\n",
              "\n",
              "<svg xmlns=\"http://www.w3.org/2000/svg\" height=\"24px\"viewBox=\"0 0 24 24\"\n",
              "     width=\"24px\">\n",
              "    <g>\n",
              "        <path d=\"M19 3H5c-1.1 0-2 .9-2 2v14c0 1.1.9 2 2 2h14c1.1 0 2-.9 2-2V5c0-1.1-.9-2-2-2zM9 17H7v-7h2v7zm4 0h-2V7h2v10zm4 0h-2v-4h2v4z\"/>\n",
              "    </g>\n",
              "</svg>\n",
              "  </button>\n",
              "\n",
              "<style>\n",
              "  .colab-df-quickchart {\n",
              "    background-color: #E8F0FE;\n",
              "    border: none;\n",
              "    border-radius: 50%;\n",
              "    cursor: pointer;\n",
              "    display: none;\n",
              "    fill: #1967D2;\n",
              "    height: 32px;\n",
              "    padding: 0 0 0 0;\n",
              "    width: 32px;\n",
              "  }\n",
              "\n",
              "  .colab-df-quickchart:hover {\n",
              "    background-color: #E2EBFA;\n",
              "    box-shadow: 0px 1px 2px rgba(60, 64, 67, 0.3), 0px 1px 3px 1px rgba(60, 64, 67, 0.15);\n",
              "    fill: #174EA6;\n",
              "  }\n",
              "\n",
              "  [theme=dark] .colab-df-quickchart {\n",
              "    background-color: #3B4455;\n",
              "    fill: #D2E3FC;\n",
              "  }\n",
              "\n",
              "  [theme=dark] .colab-df-quickchart:hover {\n",
              "    background-color: #434B5C;\n",
              "    box-shadow: 0px 1px 3px 1px rgba(0, 0, 0, 0.15);\n",
              "    filter: drop-shadow(0px 1px 2px rgba(0, 0, 0, 0.3));\n",
              "    fill: #FFFFFF;\n",
              "  }\n",
              "</style>\n",
              "\n",
              "  <script>\n",
              "    async function quickchart(key) {\n",
              "      const charts = await google.colab.kernel.invokeFunction(\n",
              "          'suggestCharts', [key], {});\n",
              "    }\n",
              "    (() => {\n",
              "      let quickchartButtonEl =\n",
              "        document.querySelector('#df-51592c6e-081d-46b0-9bd8-d50f7cbf9b84 button');\n",
              "      quickchartButtonEl.style.display =\n",
              "        google.colab.kernel.accessAllowed ? 'block' : 'none';\n",
              "    })();\n",
              "  </script>\n",
              "</div>\n",
              "    </div>\n",
              "  </div>\n"
            ]
          },
          "metadata": {},
          "execution_count": 51
        }
      ],
      "source": [
        "hist_df.describe()"
      ]
    },
    {
      "cell_type": "code",
      "execution_count": 52,
      "id": "88a937a4",
      "metadata": {
        "id": "88a937a4",
        "colab": {
          "base_uri": "https://localhost:8080/",
          "height": 452
        },
        "outputId": "33c17e38-5f7f-4b11-9886-ce910850ecc9"
      },
      "outputs": [
        {
          "output_type": "display_data",
          "data": {
            "text/plain": [
              "<Figure size 1500x600 with 2 Axes>"
            ],
            "image/png": "[encoded data removed]"
          },
          "metadata": {}
        }
      ],
      "source": [
        "plot_tf_hist(hist_df)"
      ]
    },
    {
      "cell_type": "code",
      "execution_count": 52,
      "id": "f30b2730",
      "metadata": {
        "id": "f30b2730"
      },
      "outputs": [],
      "source": []
    },
    {
      "cell_type": "markdown",
      "id": "4cf521d6",
      "metadata": {
        "id": "4cf521d6"
      },
      "source": [
        "# Conclusion:\n",
        "\n",
        "### Observing the loss and accuracy curves the simple RNN model is most accurate for this particular classification problem"
      ]
    },
    {
      "cell_type": "code",
      "execution_count": 52,
      "id": "18b8aa65",
      "metadata": {
        "id": "18b8aa65"
      },
      "outputs": [],
      "source": []
    }
  ],
  "metadata": {
    "kernelspec": {
      "display_name": "Python 3",
      "name": "python3"
    },
    "language_info": {
      "codemirror_mode": {
        "name": "ipython",
        "version": 3
      },
      "file_extension": ".py",
      "mimetype": "text/x-python",
      "name": "python",
      "nbconvert_exporter": "python",
      "pygments_lexer": "ipython3",
      "version": "3.10.9"
    },
    "colab": {
      "provenance": [],
      "gpuType": "T4"
    },
    "accelerator": "GPU"
  },
  "nbformat": 4,
  "nbformat_minor": 5
}