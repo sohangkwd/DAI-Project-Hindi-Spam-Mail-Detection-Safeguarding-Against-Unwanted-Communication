{
  "nbformat": 4,
  "nbformat_minor": 0,
  "metadata": {
    "colab": {
      "provenance": [],
      "gpuType": "T4"
    },
    "kernelspec": {
      "name": "python3",
      "display_name": "Python 3"
    },
    "language_info": {
      "name": "python"
    },
    "accelerator": "GPU"
  },
  "cells": [
    {
      "cell_type": "code",
      "execution_count": null,
      "metadata": {
        "id": "l8r72gKn90st"
      },
      "outputs": [],
      "source": []
    },
    {
      "cell_type": "markdown",
      "source": [
        "## Import Libraries"
      ],
      "metadata": {
        "id": "TCLTxTCS-p08"
      }
    },
    {
      "cell_type": "code",
      "source": [
        "import numpy as np\n",
        "import pandas as pd\n",
        "import matplotlib.pyplot as plt"
      ],
      "metadata": {
        "id": "JEAmrS6k-r4_"
      },
      "execution_count": 1,
      "outputs": []
    },
    {
      "cell_type": "markdown",
      "source": [
        "## Read Data"
      ],
      "metadata": {
        "id": "4_zq1l7L-zUa"
      }
    },
    {
      "cell_type": "code",
      "source": [
        "df = pd.read_csv(\"/content/drive/MyDrive/CDAC Project/sam1.csv\")\n",
        "df"
      ],
      "metadata": {
        "colab": {
          "base_uri": "https://localhost:8080/",
          "height": 424
        },
        "id": "VnyJHGgZ-s_e",
        "outputId": "7bb60d16-cd8d-4fe0-e48b-fd429e079119"
      },
      "execution_count": 2,
      "outputs": [
        {
          "output_type": "execute_result",
          "data": {
            "text/plain": [
              "                                                 text  \\\n",
              "0   Hi James,\\n\\nHave you claim your complimentary...   \n",
              "1   \\nalt_text\\nCongratulations, you just earned\\n...   \n",
              "2   Here's your GitHub launch code, @Mortyj420!\\n ...   \n",
              "3   Hello,\\n \\nThank you for contacting the Virtua...   \n",
              "4   Hey Prachanda Rawal,\\n\\nToday's newsletter is ...   \n",
              "..                                                ...   \n",
              "79  Dear Maryam, \\n\\n \\n\\nI would like to thank yo...   \n",
              "80  Dear Customer,\\n\\nWelcome to Kilimall, Thanks ...   \n",
              "81  Dear vladis163rus,\\nHere is the Steam Guard co...   \n",
              "82  View In Browser | Log in\\n \\n \\n\\nSkrill logo\\...   \n",
              "83  You've received a gift!\\nSign in to your Bard ...   \n",
              "\n",
              "                                                hindi      type  \n",
              "0   नमस्ते जेम्स,\\n\\nक्या आपने अभी तक अपने मानार्थ...      spam  \n",
              "1   वैकल्पिक शब्द\\nबधाई हो, आपने अभी-अभी कमाई की ह...  not spam  \n",
              "2   यह रहा आपका GitHub लॉन्च कोड, @Mortyj420!\\n \\n...  not spam  \n",
              "3   नमस्ते,\\n \\nवर्चुअल रिवार्ड सेंटर से संपर्क कर...  not spam  \n",
              "4   हे प्रचंड रावल,\\n\\nआज का न्यूज़लेटर आपके ब्लॉक...      spam  \n",
              "..                                                ...       ...  \n",
              "79  प्रिय मरियम,\\n\\n \\n\\nमैं आपातकालीन विशेषज्ञ, म...  not spam  \n",
              "80  प्रिय ग्राहक,\\n\\nकिलिमॉल में आपका स्वागत है, ह...  not spam  \n",
              "81  प्रिय व्लादिस163रस,\\nयहां स्टीम गार्ड कोड है ज...  not spam  \n",
              "82  ब्राउज़र में देखें | लॉग इन करें\\n \\n \\n\\nस्क्...  not spam  \n",
              "83  आपको एक उपहार मिला है!\\nअपने बार्ड एक्सप्लोरर्...  not spam  \n",
              "\n",
              "[84 rows x 3 columns]"
            ],
            "text/html": [
              "\n",
              "  <div id=\"df-eb16a51f-43e4-413e-a189-3ce15d36aaa5\" class=\"colab-df-container\">\n",
              "    <div>\n",
              "<style scoped>\n",
              "    .dataframe tbody tr th:only-of-type {\n",
              "        vertical-align: middle;\n",
              "    }\n",
              "\n",
              "    .dataframe tbody tr th {\n",
              "        vertical-align: top;\n",
              "    }\n",
              "\n",
              "    .dataframe thead th {\n",
              "        text-align: right;\n",
              "    }\n",
              "</style>\n",
              "<table border=\"1\" class=\"dataframe\">\n",
              "  <thead>\n",
              "    <tr style=\"text-align: right;\">\n",
              "      <th></th>\n",
              "      <th>text</th>\n",
              "      <th>hindi</th>\n",
              "      <th>type</th>\n",
              "    </tr>\n",
              "  </thead>\n",
              "  <tbody>\n",
              "    <tr>\n",
              "      <th>0</th>\n",
              "      <td>Hi James,\\n\\nHave you claim your complimentary...</td>\n",
              "      <td>नमस्ते जेम्स,\\n\\nक्या आपने अभी तक अपने मानार्थ...</td>\n",
              "      <td>spam</td>\n",
              "    </tr>\n",
              "    <tr>\n",
              "      <th>1</th>\n",
              "      <td>\\nalt_text\\nCongratulations, you just earned\\n...</td>\n",
              "      <td>वैकल्पिक शब्द\\nबधाई हो, आपने अभी-अभी कमाई की ह...</td>\n",
              "      <td>not spam</td>\n",
              "    </tr>\n",
              "    <tr>\n",
              "      <th>2</th>\n",
              "      <td>Here's your GitHub launch code, @Mortyj420!\\n ...</td>\n",
              "      <td>यह रहा आपका GitHub लॉन्च कोड, @Mortyj420!\\n \\n...</td>\n",
              "      <td>not spam</td>\n",
              "    </tr>\n",
              "    <tr>\n",
              "      <th>3</th>\n",
              "      <td>Hello,\\n \\nThank you for contacting the Virtua...</td>\n",
              "      <td>नमस्ते,\\n \\nवर्चुअल रिवार्ड सेंटर से संपर्क कर...</td>\n",
              "      <td>not spam</td>\n",
              "    </tr>\n",
              "    <tr>\n",
              "      <th>4</th>\n",
              "      <td>Hey Prachanda Rawal,\\n\\nToday's newsletter is ...</td>\n",
              "      <td>हे प्रचंड रावल,\\n\\nआज का न्यूज़लेटर आपके ब्लॉक...</td>\n",
              "      <td>spam</td>\n",
              "    </tr>\n",
              "    <tr>\n",
              "      <th>...</th>\n",
              "      <td>...</td>\n",
              "      <td>...</td>\n",
              "      <td>...</td>\n",
              "    </tr>\n",
              "    <tr>\n",
              "      <th>79</th>\n",
              "      <td>Dear Maryam, \\n\\n \\n\\nI would like to thank yo...</td>\n",
              "      <td>प्रिय मरियम,\\n\\n \\n\\nमैं आपातकालीन विशेषज्ञ, म...</td>\n",
              "      <td>not spam</td>\n",
              "    </tr>\n",
              "    <tr>\n",
              "      <th>80</th>\n",
              "      <td>Dear Customer,\\n\\nWelcome to Kilimall, Thanks ...</td>\n",
              "      <td>प्रिय ग्राहक,\\n\\nकिलिमॉल में आपका स्वागत है, ह...</td>\n",
              "      <td>not spam</td>\n",
              "    </tr>\n",
              "    <tr>\n",
              "      <th>81</th>\n",
              "      <td>Dear vladis163rus,\\nHere is the Steam Guard co...</td>\n",
              "      <td>प्रिय व्लादिस163रस,\\nयहां स्टीम गार्ड कोड है ज...</td>\n",
              "      <td>not spam</td>\n",
              "    </tr>\n",
              "    <tr>\n",
              "      <th>82</th>\n",
              "      <td>View In Browser | Log in\\n \\n \\n\\nSkrill logo\\...</td>\n",
              "      <td>ब्राउज़र में देखें | लॉग इन करें\\n \\n \\n\\nस्क्...</td>\n",
              "      <td>not spam</td>\n",
              "    </tr>\n",
              "    <tr>\n",
              "      <th>83</th>\n",
              "      <td>You've received a gift!\\nSign in to your Bard ...</td>\n",
              "      <td>आपको एक उपहार मिला है!\\nअपने बार्ड एक्सप्लोरर्...</td>\n",
              "      <td>not spam</td>\n",
              "    </tr>\n",
              "  </tbody>\n",
              "</table>\n",
              "<p>84 rows × 3 columns</p>\n",
              "</div>\n",
              "    <div class=\"colab-df-buttons\">\n",
              "\n",
              "  <div class=\"colab-df-container\">\n",
              "    <button class=\"colab-df-convert\" onclick=\"convertToInteractive('df-eb16a51f-43e4-413e-a189-3ce15d36aaa5')\"\n",
              "            title=\"Convert this dataframe to an interactive table.\"\n",
              "            style=\"display:none;\">\n",
              "\n",
              "  <svg xmlns=\"http://www.w3.org/2000/svg\" height=\"24px\" viewBox=\"0 -960 960 960\">\n",
              "    <path d=\"M120-120v-720h720v720H120Zm60-500h600v-160H180v160Zm220 220h160v-160H400v160Zm0 220h160v-160H400v160ZM180-400h160v-160H180v160Zm440 0h160v-160H620v160ZM180-180h160v-160H180v160Zm440 0h160v-160H620v160Z\"/>\n",
              "  </svg>\n",
              "    </button>\n",
              "\n",
              "  <style>\n",
              "    .colab-df-container {\n",
              "      display:flex;\n",
              "      gap: 12px;\n",
              "    }\n",
              "\n",
              "    .colab-df-convert {\n",
              "      background-color: #E8F0FE;\n",
              "      border: none;\n",
              "      border-radius: 50%;\n",
              "      cursor: pointer;\n",
              "      display: none;\n",
              "      fill: #1967D2;\n",
              "      height: 32px;\n",
              "      padding: 0 0 0 0;\n",
              "      width: 32px;\n",
              "    }\n",
              "\n",
              "    .colab-df-convert:hover {\n",
              "      background-color: #E2EBFA;\n",
              "      box-shadow: 0px 1px 2px rgba(60, 64, 67, 0.3), 0px 1px 3px 1px rgba(60, 64, 67, 0.15);\n",
              "      fill: #174EA6;\n",
              "    }\n",
              "\n",
              "    .colab-df-buttons div {\n",
              "      margin-bottom: 4px;\n",
              "    }\n",
              "\n",
              "    [theme=dark] .colab-df-convert {\n",
              "      background-color: #3B4455;\n",
              "      fill: #D2E3FC;\n",
              "    }\n",
              "\n",
              "    [theme=dark] .colab-df-convert:hover {\n",
              "      background-color: #434B5C;\n",
              "      box-shadow: 0px 1px 3px 1px rgba(0, 0, 0, 0.15);\n",
              "      filter: drop-shadow(0px 1px 2px rgba(0, 0, 0, 0.3));\n",
              "      fill: #FFFFFF;\n",
              "    }\n",
              "  </style>\n",
              "\n",
              "    <script>\n",
              "      const buttonEl =\n",
              "        document.querySelector('#df-eb16a51f-43e4-413e-a189-3ce15d36aaa5 button.colab-df-convert');\n",
              "      buttonEl.style.display =\n",
              "        google.colab.kernel.accessAllowed ? 'block' : 'none';\n",
              "\n",
              "      async function convertToInteractive(key) {\n",
              "        const element = document.querySelector('#df-eb16a51f-43e4-413e-a189-3ce15d36aaa5');\n",
              "        const dataTable =\n",
              "          await google.colab.kernel.invokeFunction('convertToInteractive',\n",
              "                                                    [key], {});\n",
              "        if (!dataTable) return;\n",
              "\n",
              "        const docLinkHtml = 'Like what you see? Visit the ' +\n",
              "          '<a target=\"_blank\" href=https://colab.research.google.com/notebooks/data_table.ipynb>data table notebook</a>'\n",
              "          + ' to learn more about interactive tables.';\n",
              "        element.innerHTML = '';\n",
              "        dataTable['output_type'] = 'display_data';\n",
              "        await google.colab.output.renderOutput(dataTable, element);\n",
              "        const docLink = document.createElement('div');\n",
              "        docLink.innerHTML = docLinkHtml;\n",
              "        element.appendChild(docLink);\n",
              "      }\n",
              "    </script>\n",
              "  </div>\n",
              "\n",
              "\n",
              "<div id=\"df-90e8d252-cdc6-47be-bd26-cc4154ee571d\">\n",
              "  <button class=\"colab-df-quickchart\" onclick=\"quickchart('df-90e8d252-cdc6-47be-bd26-cc4154ee571d')\"\n",
              "            title=\"Suggest charts.\"\n",
              "            style=\"display:none;\">\n",
              "\n",
              "<svg xmlns=\"http://www.w3.org/2000/svg\" height=\"24px\"viewBox=\"0 0 24 24\"\n",
              "     width=\"24px\">\n",
              "    <g>\n",
              "        <path d=\"M19 3H5c-1.1 0-2 .9-2 2v14c0 1.1.9 2 2 2h14c1.1 0 2-.9 2-2V5c0-1.1-.9-2-2-2zM9 17H7v-7h2v7zm4 0h-2V7h2v10zm4 0h-2v-4h2v4z\"/>\n",
              "    </g>\n",
              "</svg>\n",
              "  </button>\n",
              "\n",
              "<style>\n",
              "  .colab-df-quickchart {\n",
              "    background-color: #E8F0FE;\n",
              "    border: none;\n",
              "    border-radius: 50%;\n",
              "    cursor: pointer;\n",
              "    display: none;\n",
              "    fill: #1967D2;\n",
              "    height: 32px;\n",
              "    padding: 0 0 0 0;\n",
              "    width: 32px;\n",
              "  }\n",
              "\n",
              "  .colab-df-quickchart:hover {\n",
              "    background-color: #E2EBFA;\n",
              "    box-shadow: 0px 1px 2px rgba(60, 64, 67, 0.3), 0px 1px 3px 1px rgba(60, 64, 67, 0.15);\n",
              "    fill: #174EA6;\n",
              "  }\n",
              "\n",
              "  [theme=dark] .colab-df-quickchart {\n",
              "    background-color: #3B4455;\n",
              "    fill: #D2E3FC;\n",
              "  }\n",
              "\n",
              "  [theme=dark] .colab-df-quickchart:hover {\n",
              "    background-color: #434B5C;\n",
              "    box-shadow: 0px 1px 3px 1px rgba(0, 0, 0, 0.15);\n",
              "    filter: drop-shadow(0px 1px 2px rgba(0, 0, 0, 0.3));\n",
              "    fill: #FFFFFF;\n",
              "  }\n",
              "</style>\n",
              "\n",
              "  <script>\n",
              "    async function quickchart(key) {\n",
              "      const charts = await google.colab.kernel.invokeFunction(\n",
              "          'suggestCharts', [key], {});\n",
              "    }\n",
              "    (() => {\n",
              "      let quickchartButtonEl =\n",
              "        document.querySelector('#df-90e8d252-cdc6-47be-bd26-cc4154ee571d button');\n",
              "      quickchartButtonEl.style.display =\n",
              "        google.colab.kernel.accessAllowed ? 'block' : 'none';\n",
              "    })();\n",
              "  </script>\n",
              "</div>\n",
              "    </div>\n",
              "  </div>\n"
            ]
          },
          "metadata": {},
          "execution_count": 2
        }
      ]
    },
    {
      "cell_type": "code",
      "source": [
        "df.drop('text',axis=1,inplace=True)   #drop unnecessary columns\n",
        "df"
      ],
      "metadata": {
        "colab": {
          "base_uri": "https://localhost:8080/",
          "height": 424
        },
        "id": "DjLZJAbX_Fts",
        "outputId": "37b67df4-532a-431c-f0a1-aa897c1a70e0"
      },
      "execution_count": 3,
      "outputs": [
        {
          "output_type": "execute_result",
          "data": {
            "text/plain": [
              "                                                hindi      type\n",
              "0   नमस्ते जेम्स,\\n\\nक्या आपने अभी तक अपने मानार्थ...      spam\n",
              "1   वैकल्पिक शब्द\\nबधाई हो, आपने अभी-अभी कमाई की ह...  not spam\n",
              "2   यह रहा आपका GitHub लॉन्च कोड, @Mortyj420!\\n \\n...  not spam\n",
              "3   नमस्ते,\\n \\nवर्चुअल रिवार्ड सेंटर से संपर्क कर...  not spam\n",
              "4   हे प्रचंड रावल,\\n\\nआज का न्यूज़लेटर आपके ब्लॉक...      spam\n",
              "..                                                ...       ...\n",
              "79  प्रिय मरियम,\\n\\n \\n\\nमैं आपातकालीन विशेषज्ञ, म...  not spam\n",
              "80  प्रिय ग्राहक,\\n\\nकिलिमॉल में आपका स्वागत है, ह...  not spam\n",
              "81  प्रिय व्लादिस163रस,\\nयहां स्टीम गार्ड कोड है ज...  not spam\n",
              "82  ब्राउज़र में देखें | लॉग इन करें\\n \\n \\n\\nस्क्...  not spam\n",
              "83  आपको एक उपहार मिला है!\\nअपने बार्ड एक्सप्लोरर्...  not spam\n",
              "\n",
              "[84 rows x 2 columns]"
            ],
            "text/html": [
              "\n",
              "  <div id=\"df-888298c3-3d3a-486c-8ba6-a93153141f32\" class=\"colab-df-container\">\n",
              "    <div>\n",
              "<style scoped>\n",
              "    .dataframe tbody tr th:only-of-type {\n",
              "        vertical-align: middle;\n",
              "    }\n",
              "\n",
              "    .dataframe tbody tr th {\n",
              "        vertical-align: top;\n",
              "    }\n",
              "\n",
              "    .dataframe thead th {\n",
              "        text-align: right;\n",
              "    }\n",
              "</style>\n",
              "<table border=\"1\" class=\"dataframe\">\n",
              "  <thead>\n",
              "    <tr style=\"text-align: right;\">\n",
              "      <th></th>\n",
              "      <th>hindi</th>\n",
              "      <th>type</th>\n",
              "    </tr>\n",
              "  </thead>\n",
              "  <tbody>\n",
              "    <tr>\n",
              "      <th>0</th>\n",
              "      <td>नमस्ते जेम्स,\\n\\nक्या आपने अभी तक अपने मानार्थ...</td>\n",
              "      <td>spam</td>\n",
              "    </tr>\n",
              "    <tr>\n",
              "      <th>1</th>\n",
              "      <td>वैकल्पिक शब्द\\nबधाई हो, आपने अभी-अभी कमाई की ह...</td>\n",
              "      <td>not spam</td>\n",
              "    </tr>\n",
              "    <tr>\n",
              "      <th>2</th>\n",
              "      <td>यह रहा आपका GitHub लॉन्च कोड, @Mortyj420!\\n \\n...</td>\n",
              "      <td>not spam</td>\n",
              "    </tr>\n",
              "    <tr>\n",
              "      <th>3</th>\n",
              "      <td>नमस्ते,\\n \\nवर्चुअल रिवार्ड सेंटर से संपर्क कर...</td>\n",
              "      <td>not spam</td>\n",
              "    </tr>\n",
              "    <tr>\n",
              "      <th>4</th>\n",
              "      <td>हे प्रचंड रावल,\\n\\nआज का न्यूज़लेटर आपके ब्लॉक...</td>\n",
              "      <td>spam</td>\n",
              "    </tr>\n",
              "    <tr>\n",
              "      <th>...</th>\n",
              "      <td>...</td>\n",
              "      <td>...</td>\n",
              "    </tr>\n",
              "    <tr>\n",
              "      <th>79</th>\n",
              "      <td>प्रिय मरियम,\\n\\n \\n\\nमैं आपातकालीन विशेषज्ञ, म...</td>\n",
              "      <td>not spam</td>\n",
              "    </tr>\n",
              "    <tr>\n",
              "      <th>80</th>\n",
              "      <td>प्रिय ग्राहक,\\n\\nकिलिमॉल में आपका स्वागत है, ह...</td>\n",
              "      <td>not spam</td>\n",
              "    </tr>\n",
              "    <tr>\n",
              "      <th>81</th>\n",
              "      <td>प्रिय व्लादिस163रस,\\nयहां स्टीम गार्ड कोड है ज...</td>\n",
              "      <td>not spam</td>\n",
              "    </tr>\n",
              "    <tr>\n",
              "      <th>82</th>\n",
              "      <td>ब्राउज़र में देखें | लॉग इन करें\\n \\n \\n\\nस्क्...</td>\n",
              "      <td>not spam</td>\n",
              "    </tr>\n",
              "    <tr>\n",
              "      <th>83</th>\n",
              "      <td>आपको एक उपहार मिला है!\\nअपने बार्ड एक्सप्लोरर्...</td>\n",
              "      <td>not spam</td>\n",
              "    </tr>\n",
              "  </tbody>\n",
              "</table>\n",
              "<p>84 rows × 2 columns</p>\n",
              "</div>\n",
              "    <div class=\"colab-df-buttons\">\n",
              "\n",
              "  <div class=\"colab-df-container\">\n",
              "    <button class=\"colab-df-convert\" onclick=\"convertToInteractive('df-888298c3-3d3a-486c-8ba6-a93153141f32')\"\n",
              "            title=\"Convert this dataframe to an interactive table.\"\n",
              "            style=\"display:none;\">\n",
              "\n",
              "  <svg xmlns=\"http://www.w3.org/2000/svg\" height=\"24px\" viewBox=\"0 -960 960 960\">\n",
              "    <path d=\"M120-120v-720h720v720H120Zm60-500h600v-160H180v160Zm220 220h160v-160H400v160Zm0 220h160v-160H400v160ZM180-400h160v-160H180v160Zm440 0h160v-160H620v160ZM180-180h160v-160H180v160Zm440 0h160v-160H620v160Z\"/>\n",
              "  </svg>\n",
              "    </button>\n",
              "\n",
              "  <style>\n",
              "    .colab-df-container {\n",
              "      display:flex;\n",
              "      gap: 12px;\n",
              "    }\n",
              "\n",
              "    .colab-df-convert {\n",
              "      background-color: #E8F0FE;\n",
              "      border: none;\n",
              "      border-radius: 50%;\n",
              "      cursor: pointer;\n",
              "      display: none;\n",
              "      fill: #1967D2;\n",
              "      height: 32px;\n",
              "      padding: 0 0 0 0;\n",
              "      width: 32px;\n",
              "    }\n",
              "\n",
              "    .colab-df-convert:hover {\n",
              "      background-color: #E2EBFA;\n",
              "      box-shadow: 0px 1px 2px rgba(60, 64, 67, 0.3), 0px 1px 3px 1px rgba(60, 64, 67, 0.15);\n",
              "      fill: #174EA6;\n",
              "    }\n",
              "\n",
              "    .colab-df-buttons div {\n",
              "      margin-bottom: 4px;\n",
              "    }\n",
              "\n",
              "    [theme=dark] .colab-df-convert {\n",
              "      background-color: #3B4455;\n",
              "      fill: #D2E3FC;\n",
              "    }\n",
              "\n",
              "    [theme=dark] .colab-df-convert:hover {\n",
              "      background-color: #434B5C;\n",
              "      box-shadow: 0px 1px 3px 1px rgba(0, 0, 0, 0.15);\n",
              "      filter: drop-shadow(0px 1px 2px rgba(0, 0, 0, 0.3));\n",
              "      fill: #FFFFFF;\n",
              "    }\n",
              "  </style>\n",
              "\n",
              "    <script>\n",
              "      const buttonEl =\n",
              "        document.querySelector('#df-888298c3-3d3a-486c-8ba6-a93153141f32 button.colab-df-convert');\n",
              "      buttonEl.style.display =\n",
              "        google.colab.kernel.accessAllowed ? 'block' : 'none';\n",
              "\n",
              "      async function convertToInteractive(key) {\n",
              "        const element = document.querySelector('#df-888298c3-3d3a-486c-8ba6-a93153141f32');\n",
              "        const dataTable =\n",
              "          await google.colab.kernel.invokeFunction('convertToInteractive',\n",
              "                                                    [key], {});\n",
              "        if (!dataTable) return;\n",
              "\n",
              "        const docLinkHtml = 'Like what you see? Visit the ' +\n",
              "          '<a target=\"_blank\" href=https://colab.research.google.com/notebooks/data_table.ipynb>data table notebook</a>'\n",
              "          + ' to learn more about interactive tables.';\n",
              "        element.innerHTML = '';\n",
              "        dataTable['output_type'] = 'display_data';\n",
              "        await google.colab.output.renderOutput(dataTable, element);\n",
              "        const docLink = document.createElement('div');\n",
              "        docLink.innerHTML = docLinkHtml;\n",
              "        element.appendChild(docLink);\n",
              "      }\n",
              "    </script>\n",
              "  </div>\n",
              "\n",
              "\n",
              "<div id=\"df-8da8f335-64d2-4483-8922-d4b4ba57fc13\">\n",
              "  <button class=\"colab-df-quickchart\" onclick=\"quickchart('df-8da8f335-64d2-4483-8922-d4b4ba57fc13')\"\n",
              "            title=\"Suggest charts.\"\n",
              "            style=\"display:none;\">\n",
              "\n",
              "<svg xmlns=\"http://www.w3.org/2000/svg\" height=\"24px\"viewBox=\"0 0 24 24\"\n",
              "     width=\"24px\">\n",
              "    <g>\n",
              "        <path d=\"M19 3H5c-1.1 0-2 .9-2 2v14c0 1.1.9 2 2 2h14c1.1 0 2-.9 2-2V5c0-1.1-.9-2-2-2zM9 17H7v-7h2v7zm4 0h-2V7h2v10zm4 0h-2v-4h2v4z\"/>\n",
              "    </g>\n",
              "</svg>\n",
              "  </button>\n",
              "\n",
              "<style>\n",
              "  .colab-df-quickchart {\n",
              "    background-color: #E8F0FE;\n",
              "    border: none;\n",
              "    border-radius: 50%;\n",
              "    cursor: pointer;\n",
              "    display: none;\n",
              "    fill: #1967D2;\n",
              "    height: 32px;\n",
              "    padding: 0 0 0 0;\n",
              "    width: 32px;\n",
              "  }\n",
              "\n",
              "  .colab-df-quickchart:hover {\n",
              "    background-color: #E2EBFA;\n",
              "    box-shadow: 0px 1px 2px rgba(60, 64, 67, 0.3), 0px 1px 3px 1px rgba(60, 64, 67, 0.15);\n",
              "    fill: #174EA6;\n",
              "  }\n",
              "\n",
              "  [theme=dark] .colab-df-quickchart {\n",
              "    background-color: #3B4455;\n",
              "    fill: #D2E3FC;\n",
              "  }\n",
              "\n",
              "  [theme=dark] .colab-df-quickchart:hover {\n",
              "    background-color: #434B5C;\n",
              "    box-shadow: 0px 1px 3px 1px rgba(0, 0, 0, 0.15);\n",
              "    filter: drop-shadow(0px 1px 2px rgba(0, 0, 0, 0.3));\n",
              "    fill: #FFFFFF;\n",
              "  }\n",
              "</style>\n",
              "\n",
              "  <script>\n",
              "    async function quickchart(key) {\n",
              "      const charts = await google.colab.kernel.invokeFunction(\n",
              "          'suggestCharts', [key], {});\n",
              "    }\n",
              "    (() => {\n",
              "      let quickchartButtonEl =\n",
              "        document.querySelector('#df-8da8f335-64d2-4483-8922-d4b4ba57fc13 button');\n",
              "      quickchartButtonEl.style.display =\n",
              "        google.colab.kernel.accessAllowed ? 'block' : 'none';\n",
              "    })();\n",
              "  </script>\n",
              "</div>\n",
              "    </div>\n",
              "  </div>\n"
            ]
          },
          "metadata": {},
          "execution_count": 3
        }
      ]
    },
    {
      "cell_type": "code",
      "source": [
        "X = df['hindi']"
      ],
      "metadata": {
        "id": "TWXq68JiBGzB"
      },
      "execution_count": 4,
      "outputs": []
    },
    {
      "cell_type": "code",
      "source": [
        "X.shape"
      ],
      "metadata": {
        "colab": {
          "base_uri": "https://localhost:8080/"
        },
        "id": "QcGUlTpSBGwN",
        "outputId": "5c9c1645-fb60-4a21-d73b-ed7b8d1631e3"
      },
      "execution_count": 5,
      "outputs": [
        {
          "output_type": "execute_result",
          "data": {
            "text/plain": [
              "(84,)"
            ]
          },
          "metadata": {},
          "execution_count": 5
        }
      ]
    },
    {
      "cell_type": "code",
      "source": [
        "X.head()"
      ],
      "metadata": {
        "colab": {
          "base_uri": "https://localhost:8080/"
        },
        "id": "Odm3hODjBGum",
        "outputId": "1f544607-a337-4908-f031-d77dd9a563b7"
      },
      "execution_count": 6,
      "outputs": [
        {
          "output_type": "execute_result",
          "data": {
            "text/plain": [
              "0    नमस्ते जेम्स,\\n\\nक्या आपने अभी तक अपने मानार्थ...\n",
              "1    वैकल्पिक शब्द\\nबधाई हो, आपने अभी-अभी कमाई की ह...\n",
              "2    यह रहा आपका GitHub लॉन्च कोड, @Mortyj420!\\n \\n...\n",
              "3    नमस्ते,\\n \\nवर्चुअल रिवार्ड सेंटर से संपर्क कर...\n",
              "4    हे प्रचंड रावल,\\n\\nआज का न्यूज़लेटर आपके ब्लॉक...\n",
              "Name: hindi, dtype: object"
            ]
          },
          "metadata": {},
          "execution_count": 6
        }
      ]
    },
    {
      "cell_type": "code",
      "source": [
        "y= df['type']"
      ],
      "metadata": {
        "id": "NByoH7kYBGtU"
      },
      "execution_count": 7,
      "outputs": []
    },
    {
      "cell_type": "code",
      "source": [
        "y.shape"
      ],
      "metadata": {
        "colab": {
          "base_uri": "https://localhost:8080/"
        },
        "id": "Aba4tYwxBGra",
        "outputId": "01505dcf-4560-4819-d0fd-4842d73d63af"
      },
      "execution_count": 8,
      "outputs": [
        {
          "output_type": "execute_result",
          "data": {
            "text/plain": [
              "(84,)"
            ]
          },
          "metadata": {},
          "execution_count": 8
        }
      ]
    },
    {
      "cell_type": "code",
      "source": [
        "#import nltk library\n",
        "import nltk"
      ],
      "metadata": {
        "id": "oaA31tNwBTBL"
      },
      "execution_count": 9,
      "outputs": []
    },
    {
      "cell_type": "code",
      "source": [
        "from sklearn.feature_extraction.text import TfidfVectorizer"
      ],
      "metadata": {
        "id": "KgQfYH4UBfRo"
      },
      "execution_count": 10,
      "outputs": []
    },
    {
      "cell_type": "code",
      "source": [
        "def hindi_tokenizer(text):\n",
        "    words = nltk.word_tokenize(text,language='hindi',preserve_line=True)\n",
        "    return words"
      ],
      "metadata": {
        "id": "gmPArB9NBsVZ"
      },
      "execution_count": 11,
      "outputs": []
    },
    {
      "cell_type": "code",
      "source": [
        "tfidf = TfidfVectorizer(tokenizer=hindi_tokenizer)\n",
        "X_vect = tfidf.fit_transform(X)"
      ],
      "metadata": {
        "colab": {
          "base_uri": "https://localhost:8080/"
        },
        "id": "Q2jCCgK9By-N",
        "outputId": "a3ce4794-013a-476d-d67f-2c7287f4c765"
      },
      "execution_count": 12,
      "outputs": [
        {
          "output_type": "stream",
          "name": "stderr",
          "text": [
            "/usr/local/lib/python3.10/dist-packages/sklearn/feature_extraction/text.py:528: UserWarning: The parameter 'token_pattern' will not be used since 'tokenizer' is not None'\n",
            "  warnings.warn(\n"
          ]
        }
      ]
    },
    {
      "cell_type": "code",
      "source": [
        "X_vect.shape"
      ],
      "metadata": {
        "colab": {
          "base_uri": "https://localhost:8080/"
        },
        "id": "PZp2Y9guBy7c",
        "outputId": "a239c8c1-2bf9-4b1f-9638-0d3619460356"
      },
      "execution_count": 13,
      "outputs": [
        {
          "output_type": "execute_result",
          "data": {
            "text/plain": [
              "(84, 3138)"
            ]
          },
          "metadata": {},
          "execution_count": 13
        }
      ]
    },
    {
      "cell_type": "code",
      "source": [
        "X_vect.toarray()"
      ],
      "metadata": {
        "colab": {
          "base_uri": "https://localhost:8080/"
        },
        "id": "ld2aHlfVBy5f",
        "outputId": "ada1c62d-5686-41e0-ca94-6c9e654e71d3"
      },
      "execution_count": 14,
      "outputs": [
        {
          "output_type": "execute_result",
          "data": {
            "text/plain": [
              "array([[0.        , 0.        , 0.        , ..., 0.        , 0.        ,\n",
              "        0.        ],\n",
              "       [0.        , 0.        , 0.        , ..., 0.        , 0.        ,\n",
              "        0.        ],\n",
              "       [0.0912213 , 0.        , 0.        , ..., 0.        , 0.        ,\n",
              "        0.        ],\n",
              "       ...,\n",
              "       [0.        , 0.        , 0.        , ..., 0.        , 0.        ,\n",
              "        0.        ],\n",
              "       [0.        , 0.        , 0.        , ..., 0.        , 0.        ,\n",
              "        0.        ],\n",
              "       [0.10099854, 0.        , 0.        , ..., 0.        , 0.        ,\n",
              "        0.        ]])"
            ]
          },
          "metadata": {},
          "execution_count": 14
        }
      ]
    },
    {
      "cell_type": "code",
      "source": [
        "tfidf.get_feature_names_out()"
      ],
      "metadata": {
        "colab": {
          "base_uri": "https://localhost:8080/"
        },
        "id": "bkHv5AUtCObU",
        "outputId": "07a8a922-61e8-4685-ef22-a690ea7f0a0a"
      },
      "execution_count": 15,
      "outputs": [
        {
          "output_type": "execute_result",
          "data": {
            "text/plain": [
              "array(['!', '#', '$', ..., '।', '\\u200b\\u200bहै', '•'], dtype=object)"
            ]
          },
          "metadata": {},
          "execution_count": 15
        }
      ]
    },
    {
      "cell_type": "markdown",
      "source": [
        "## Train test split"
      ],
      "metadata": {
        "id": "5XuELxm0DYCH"
      }
    },
    {
      "cell_type": "code",
      "source": [
        "from sklearn.model_selection import train_test_split"
      ],
      "metadata": {
        "id": "nuvRi4BdC-0b"
      },
      "execution_count": 16,
      "outputs": []
    },
    {
      "cell_type": "code",
      "source": [
        "X_train, X_test, y_train, y_test = train_test_split(X_vect,y, random_state=0)"
      ],
      "metadata": {
        "id": "rioDlc16Dcfq"
      },
      "execution_count": 17,
      "outputs": []
    },
    {
      "cell_type": "code",
      "source": [
        "X_train.shape, y_train.shape"
      ],
      "metadata": {
        "colab": {
          "base_uri": "https://localhost:8080/"
        },
        "id": "D8EhDzRiIvV1",
        "outputId": "d7e50728-5118-4b55-89fc-0043adb89f7f"
      },
      "execution_count": 18,
      "outputs": [
        {
          "output_type": "execute_result",
          "data": {
            "text/plain": [
              "((63, 3138), (63,))"
            ]
          },
          "metadata": {},
          "execution_count": 18
        }
      ]
    },
    {
      "cell_type": "code",
      "source": [
        "X_test.shape , y_test.shape"
      ],
      "metadata": {
        "colab": {
          "base_uri": "https://localhost:8080/"
        },
        "id": "mytyw8GcI9_B",
        "outputId": "d0b9ac46-c431-4238-92eb-e467cab6f543"
      },
      "execution_count": 19,
      "outputs": [
        {
          "output_type": "execute_result",
          "data": {
            "text/plain": [
              "((21, 3138), (21,))"
            ]
          },
          "metadata": {},
          "execution_count": 19
        }
      ]
    },
    {
      "cell_type": "markdown",
      "source": [
        "## Build Model\n"
      ],
      "metadata": {
        "id": "nZRq4LUfDmG8"
      }
    },
    {
      "cell_type": "markdown",
      "source": [
        "## K-Means Clustering"
      ],
      "metadata": {
        "id": "YBDudgX8H1cK"
      }
    },
    {
      "cell_type": "code",
      "source": [
        "from sklearn.cluster import KMeans\n",
        "from sklearn.metrics import adjusted_rand_score"
      ],
      "metadata": {
        "id": "i-Gqba40DkWV"
      },
      "execution_count": 20,
      "outputs": []
    },
    {
      "cell_type": "code",
      "source": [
        "num_clusters = 2  # Number of clusters (spam and not spam)\n",
        "kmeans = KMeans(n_clusters=num_clusters, random_state=42)\n",
        "cluster_labels = kmeans.fit_predict(X_train)"
      ],
      "metadata": {
        "colab": {
          "base_uri": "https://localhost:8080/"
        },
        "id": "MWqrYZ7FIGKK",
        "outputId": "695c1591-2cb4-4b63-f47f-ed4ffd76b100"
      },
      "execution_count": 21,
      "outputs": [
        {
          "output_type": "stream",
          "name": "stderr",
          "text": [
            "/usr/local/lib/python3.10/dist-packages/sklearn/cluster/_kmeans.py:870: FutureWarning: The default value of `n_init` will change from 10 to 'auto' in 1.4. Set the value of `n_init` explicitly to suppress the warning\n",
            "  warnings.warn(\n"
          ]
        }
      ]
    },
    {
      "cell_type": "code",
      "source": [
        "cluster_labels"
      ],
      "metadata": {
        "colab": {
          "base_uri": "https://localhost:8080/"
        },
        "id": "CAjUCghrIILi",
        "outputId": "13cefb1b-b493-4d68-e195-124f2f6aac7c"
      },
      "execution_count": 22,
      "outputs": [
        {
          "output_type": "execute_result",
          "data": {
            "text/plain": [
              "array([1, 1, 1, 1, 1, 1, 1, 1, 1, 1, 1, 1, 1, 1, 1, 1, 1, 1, 1, 1, 1, 1,\n",
              "       1, 1, 1, 1, 1, 1, 1, 1, 1, 1, 1, 1, 1, 1, 1, 1, 0, 1, 1, 1, 0, 1,\n",
              "       1, 1, 1, 1, 1, 1, 1, 1, 0, 1, 1, 1, 1, 1, 1, 1, 1, 1, 1],\n",
              "      dtype=int32)"
            ]
          },
          "metadata": {},
          "execution_count": 22
        }
      ]
    },
    {
      "cell_type": "code",
      "source": [
        "# Calculate inertia for different values of K\n",
        "inertia_values = []\n",
        "possible_k_values = range(1, 11)\n",
        "for k in possible_k_values:\n",
        "    kmeans = KMeans(n_clusters=k, random_state=42)\n",
        "    kmeans.fit(X_train)\n",
        "    inertia_values.append(kmeans.inertia_)"
      ],
      "metadata": {
        "id": "Azi5ur4FJlsD"
      },
      "execution_count": 23,
      "outputs": []
    },
    {
      "cell_type": "markdown",
      "source": [
        "## K-Means Evaluation"
      ],
      "metadata": {
        "id": "lWUPLFznOtR2"
      }
    },
    {
      "cell_type": "code",
      "source": [
        "# Method 1: Inertia (Within-Cluster Sum of Squares)\n",
        "print(\"Inertia:\", kmeans.inertia_)"
      ],
      "metadata": {
        "colab": {
          "base_uri": "https://localhost:8080/"
        },
        "id": "97D_7zoIKRJv",
        "outputId": "9ad0b0ad-42e4-4216-e030-745f29054a86"
      },
      "execution_count": 24,
      "outputs": [
        {
          "output_type": "stream",
          "name": "stdout",
          "text": [
            "Inertia: 43.21770296520967\n"
          ]
        }
      ]
    },
    {
      "cell_type": "code",
      "source": [
        "# Method 2: Silhouette Score\n",
        "from sklearn.metrics import silhouette_score\n",
        "silhouette_avg = silhouette_score(X_train, cluster_labels)\n",
        "print(\"Silhouette Score:\", silhouette_avg)"
      ],
      "metadata": {
        "colab": {
          "base_uri": "https://localhost:8080/"
        },
        "id": "n5I3oolIOkSZ",
        "outputId": "b3fe9924-677e-4004-cf54-5b91fc6101f2"
      },
      "execution_count": 25,
      "outputs": [
        {
          "output_type": "stream",
          "name": "stdout",
          "text": [
            "Silhouette Score: 0.04314974569807381\n"
          ]
        }
      ]
    },
    {
      "cell_type": "code",
      "source": [],
      "metadata": {
        "id": "IvIgdVRrOoxd"
      },
      "execution_count": 25,
      "outputs": []
    },
    {
      "cell_type": "markdown",
      "source": [
        "## Naive Bayes"
      ],
      "metadata": {
        "id": "hEZmBxOA1Dq9"
      }
    },
    {
      "cell_type": "code",
      "source": [
        "# Import Libraries\n",
        "from sklearn.naive_bayes import MultinomialNB\n",
        "from sklearn.metrics import accuracy_score, classification_report"
      ],
      "metadata": {
        "id": "qbs0P4Op09eP"
      },
      "execution_count": 26,
      "outputs": []
    },
    {
      "cell_type": "code",
      "source": [
        "X = df['hindi']\n",
        "y = df['type']\n",
        "\n",
        "X_train, X_test, y_train, y_test = train_test_split(X, y, test_size=0.2, random_state=42)"
      ],
      "metadata": {
        "id": "xgM22r3f3s4s"
      },
      "execution_count": 28,
      "outputs": []
    },
    {
      "cell_type": "code",
      "source": [
        "# Create TF-IDF representation\n",
        "tfidf_vectorizer = TfidfVectorizer()\n",
        "X_train_tfidf = tfidf_vectorizer.fit_transform(X_train)\n",
        "X_test_tfidf = tfidf_vectorizer.transform(X_test)"
      ],
      "metadata": {
        "id": "SmP1v-CN0-Oi"
      },
      "execution_count": 29,
      "outputs": []
    },
    {
      "cell_type": "code",
      "source": [
        "# Train the Multinomial Naive Bayes classifier\n",
        "nb_classifier = MultinomialNB()\n",
        "nb_classifier.fit(X_train_tfidf, y_train)\n"
      ],
      "metadata": {
        "colab": {
          "base_uri": "https://localhost:8080/",
          "height": 75
        },
        "id": "kvD6hSrF0-rL",
        "outputId": "cd449b62-8d61-4480-9858-dc323dfeee06"
      },
      "execution_count": 30,
      "outputs": [
        {
          "output_type": "execute_result",
          "data": {
            "text/plain": [
              "MultinomialNB()"
            ],
            "text/html": [
              "<style>#sk-container-id-1 {color: black;background-color: white;}#sk-container-id-1 pre{padding: 0;}#sk-container-id-1 div.sk-toggleable {background-color: white;}#sk-container-id-1 label.sk-toggleable__label {cursor: pointer;display: block;width: 100%;margin-bottom: 0;padding: 0.3em;box-sizing: border-box;text-align: center;}#sk-container-id-1 label.sk-toggleable__label-arrow:before {content: \"▸\";float: left;margin-right: 0.25em;color: #696969;}#sk-container-id-1 label.sk-toggleable__label-arrow:hover:before {color: black;}#sk-container-id-1 div.sk-estimator:hover label.sk-toggleable__label-arrow:before {color: black;}#sk-container-id-1 div.sk-toggleable__content {max-height: 0;max-width: 0;overflow: hidden;text-align: left;background-color: #f0f8ff;}#sk-container-id-1 div.sk-toggleable__content pre {margin: 0.2em;color: black;border-radius: 0.25em;background-color: #f0f8ff;}#sk-container-id-1 input.sk-toggleable__control:checked~div.sk-toggleable__content {max-height: 200px;max-width: 100%;overflow: auto;}#sk-container-id-1 input.sk-toggleable__control:checked~label.sk-toggleable__label-arrow:before {content: \"▾\";}#sk-container-id-1 div.sk-estimator input.sk-toggleable__control:checked~label.sk-toggleable__label {background-color: #d4ebff;}#sk-container-id-1 div.sk-label input.sk-toggleable__control:checked~label.sk-toggleable__label {background-color: #d4ebff;}#sk-container-id-1 input.sk-hidden--visually {border: 0;clip: rect(1px 1px 1px 1px);clip: rect(1px, 1px, 1px, 1px);height: 1px;margin: -1px;overflow: hidden;padding: 0;position: absolute;width: 1px;}#sk-container-id-1 div.sk-estimator {font-family: monospace;background-color: #f0f8ff;border: 1px dotted black;border-radius: 0.25em;box-sizing: border-box;margin-bottom: 0.5em;}#sk-container-id-1 div.sk-estimator:hover {background-color: #d4ebff;}#sk-container-id-1 div.sk-parallel-item::after {content: \"\";width: 100%;border-bottom: 1px solid gray;flex-grow: 1;}#sk-container-id-1 div.sk-label:hover label.sk-toggleable__label {background-color: #d4ebff;}#sk-container-id-1 div.sk-serial::before {content: \"\";position: absolute;border-left: 1px solid gray;box-sizing: border-box;top: 0;bottom: 0;left: 50%;z-index: 0;}#sk-container-id-1 div.sk-serial {display: flex;flex-direction: column;align-items: center;background-color: white;padding-right: 0.2em;padding-left: 0.2em;position: relative;}#sk-container-id-1 div.sk-item {position: relative;z-index: 1;}#sk-container-id-1 div.sk-parallel {display: flex;align-items: stretch;justify-content: center;background-color: white;position: relative;}#sk-container-id-1 div.sk-item::before, #sk-container-id-1 div.sk-parallel-item::before {content: \"\";position: absolute;border-left: 1px solid gray;box-sizing: border-box;top: 0;bottom: 0;left: 50%;z-index: -1;}#sk-container-id-1 div.sk-parallel-item {display: flex;flex-direction: column;z-index: 1;position: relative;background-color: white;}#sk-container-id-1 div.sk-parallel-item:first-child::after {align-self: flex-end;width: 50%;}#sk-container-id-1 div.sk-parallel-item:last-child::after {align-self: flex-start;width: 50%;}#sk-container-id-1 div.sk-parallel-item:only-child::after {width: 0;}#sk-container-id-1 div.sk-dashed-wrapped {border: 1px dashed gray;margin: 0 0.4em 0.5em 0.4em;box-sizing: border-box;padding-bottom: 0.4em;background-color: white;}#sk-container-id-1 div.sk-label label {font-family: monospace;font-weight: bold;display: inline-block;line-height: 1.2em;}#sk-container-id-1 div.sk-label-container {text-align: center;}#sk-container-id-1 div.sk-container {/* jupyter's `normalize.less` sets `[hidden] { display: none; }` but bootstrap.min.css set `[hidden] { display: none !important; }` so we also need the `!important` here to be able to override the default hidden behavior on the sphinx rendered scikit-learn.org. See: https://github.com/scikit-learn/scikit-learn/issues/21755 */display: inline-block !important;position: relative;}#sk-container-id-1 div.sk-text-repr-fallback {display: none;}</style><div id=\"sk-container-id-1\" class=\"sk-top-container\"><div class=\"sk-text-repr-fallback\"><pre>MultinomialNB()</pre><b>In a Jupyter environment, please rerun this cell to show the HTML representation or trust the notebook. <br />On GitHub, the HTML representation is unable to render, please try loading this page with nbviewer.org.</b></div><div class=\"sk-container\" hidden><div class=\"sk-item\"><div class=\"sk-estimator sk-toggleable\"><input class=\"sk-toggleable__control sk-hidden--visually\" id=\"sk-estimator-id-1\" type=\"checkbox\" checked><label for=\"sk-estimator-id-1\" class=\"sk-toggleable__label sk-toggleable__label-arrow\">MultinomialNB</label><div class=\"sk-toggleable__content\"><pre>MultinomialNB()</pre></div></div></div></div></div>"
            ]
          },
          "metadata": {},
          "execution_count": 30
        }
      ]
    },
    {
      "cell_type": "code",
      "source": [
        "# Predict on the test set\n",
        "y_pred = nb_classifier.predict(X_test_tfidf)"
      ],
      "metadata": {
        "id": "tLuUD9vf0--X"
      },
      "execution_count": 32,
      "outputs": []
    },
    {
      "cell_type": "markdown",
      "source": [
        "## Naive Bayes Evaluation"
      ],
      "metadata": {
        "id": "IF6xauqb3PtY"
      }
    },
    {
      "cell_type": "code",
      "source": [
        "# Evaluate the classifier\n",
        "accuracy = accuracy_score(y_test, y_pred)\n",
        "classification_rep = classification_report(y_test, y_pred)\n",
        "\n",
        "print(f\"Accuracy: {accuracy:.4f}\")\n",
        "print(\"Classification Report:\\n\", classification_rep)"
      ],
      "metadata": {
        "colab": {
          "base_uri": "https://localhost:8080/"
        },
        "id": "hV6SXJx_2zlI",
        "outputId": "560ee0ef-c56e-4cc3-e094-f53cb3f11a68"
      },
      "execution_count": 33,
      "outputs": [
        {
          "output_type": "stream",
          "name": "stdout",
          "text": [
            "Accuracy: 0.6471\n",
            "Classification Report:\n",
            "               precision    recall  f1-score   support\n",
            "\n",
            "    not spam       0.65      1.00      0.79        11\n",
            "        spam       0.00      0.00      0.00         6\n",
            "\n",
            "    accuracy                           0.65        17\n",
            "   macro avg       0.32      0.50      0.39        17\n",
            "weighted avg       0.42      0.65      0.51        17\n",
            "\n"
          ]
        },
        {
          "output_type": "stream",
          "name": "stderr",
          "text": [
            "/usr/local/lib/python3.10/dist-packages/sklearn/metrics/_classification.py:1344: UndefinedMetricWarning: Precision and F-score are ill-defined and being set to 0.0 in labels with no predicted samples. Use `zero_division` parameter to control this behavior.\n",
            "  _warn_prf(average, modifier, msg_start, len(result))\n",
            "/usr/local/lib/python3.10/dist-packages/sklearn/metrics/_classification.py:1344: UndefinedMetricWarning: Precision and F-score are ill-defined and being set to 0.0 in labels with no predicted samples. Use `zero_division` parameter to control this behavior.\n",
            "  _warn_prf(average, modifier, msg_start, len(result))\n",
            "/usr/local/lib/python3.10/dist-packages/sklearn/metrics/_classification.py:1344: UndefinedMetricWarning: Precision and F-score are ill-defined and being set to 0.0 in labels with no predicted samples. Use `zero_division` parameter to control this behavior.\n",
            "  _warn_prf(average, modifier, msg_start, len(result))\n"
          ]
        }
      ]
    },
    {
      "cell_type": "code",
      "source": [],
      "metadata": {
        "id": "jLtghcTc2ziO"
      },
      "execution_count": null,
      "outputs": []
    },
    {
      "cell_type": "code",
      "source": [],
      "metadata": {
        "id": "78zotejn2zgF"
      },
      "execution_count": null,
      "outputs": []
    },
    {
      "cell_type": "markdown",
      "source": [
        "## SVM"
      ],
      "metadata": {
        "id": "k0YqRzI6PUEF"
      }
    },
    {
      "cell_type": "code",
      "source": [
        "from sklearn.svm import SVC\n",
        "from sklearn.metrics import accuracy_score,classification_report,confusion_matrix"
      ],
      "metadata": {
        "id": "ZJ47WaqEPS81"
      },
      "execution_count": 34,
      "outputs": []
    },
    {
      "cell_type": "code",
      "source": [
        "X = df['hindi']\n",
        "y = df['type']\n",
        "\n",
        "X_train, X_test, y_train, y_test = train_test_split(X, y, test_size=0.2, random_state=42)"
      ],
      "metadata": {
        "id": "22RMIaqS39xy"
      },
      "execution_count": 36,
      "outputs": []
    },
    {
      "cell_type": "code",
      "source": [
        "# Create TF-IDF representation\n",
        "tfidf_vectorizer = TfidfVectorizer()\n",
        "X_train_tfidf = tfidf_vectorizer.fit_transform(X_train)\n",
        "X_test_tfidf = tfidf_vectorizer.transform(X_test)"
      ],
      "metadata": {
        "id": "h9owvkDP4oda"
      },
      "execution_count": 39,
      "outputs": []
    },
    {
      "cell_type": "code",
      "source": [
        "# Create and train the SVM model\n",
        "svm_model = SVC(kernel='linear')\n",
        "svm_model.fit(X_train_tfidf, y_train)"
      ],
      "metadata": {
        "colab": {
          "base_uri": "https://localhost:8080/",
          "height": 75
        },
        "id": "bLOwT6AxPS6l",
        "outputId": "3b091398-9203-460e-a186-f9b449aaf58f"
      },
      "execution_count": 42,
      "outputs": [
        {
          "output_type": "execute_result",
          "data": {
            "text/plain": [
              "SVC(kernel='linear')"
            ],
            "text/html": [
              "<style>#sk-container-id-2 {color: black;background-color: white;}#sk-container-id-2 pre{padding: 0;}#sk-container-id-2 div.sk-toggleable {background-color: white;}#sk-container-id-2 label.sk-toggleable__label {cursor: pointer;display: block;width: 100%;margin-bottom: 0;padding: 0.3em;box-sizing: border-box;text-align: center;}#sk-container-id-2 label.sk-toggleable__label-arrow:before {content: \"▸\";float: left;margin-right: 0.25em;color: #696969;}#sk-container-id-2 label.sk-toggleable__label-arrow:hover:before {color: black;}#sk-container-id-2 div.sk-estimator:hover label.sk-toggleable__label-arrow:before {color: black;}#sk-container-id-2 div.sk-toggleable__content {max-height: 0;max-width: 0;overflow: hidden;text-align: left;background-color: #f0f8ff;}#sk-container-id-2 div.sk-toggleable__content pre {margin: 0.2em;color: black;border-radius: 0.25em;background-color: #f0f8ff;}#sk-container-id-2 input.sk-toggleable__control:checked~div.sk-toggleable__content {max-height: 200px;max-width: 100%;overflow: auto;}#sk-container-id-2 input.sk-toggleable__control:checked~label.sk-toggleable__label-arrow:before {content: \"▾\";}#sk-container-id-2 div.sk-estimator input.sk-toggleable__control:checked~label.sk-toggleable__label {background-color: #d4ebff;}#sk-container-id-2 div.sk-label input.sk-toggleable__control:checked~label.sk-toggleable__label {background-color: #d4ebff;}#sk-container-id-2 input.sk-hidden--visually {border: 0;clip: rect(1px 1px 1px 1px);clip: rect(1px, 1px, 1px, 1px);height: 1px;margin: -1px;overflow: hidden;padding: 0;position: absolute;width: 1px;}#sk-container-id-2 div.sk-estimator {font-family: monospace;background-color: #f0f8ff;border: 1px dotted black;border-radius: 0.25em;box-sizing: border-box;margin-bottom: 0.5em;}#sk-container-id-2 div.sk-estimator:hover {background-color: #d4ebff;}#sk-container-id-2 div.sk-parallel-item::after {content: \"\";width: 100%;border-bottom: 1px solid gray;flex-grow: 1;}#sk-container-id-2 div.sk-label:hover label.sk-toggleable__label {background-color: #d4ebff;}#sk-container-id-2 div.sk-serial::before {content: \"\";position: absolute;border-left: 1px solid gray;box-sizing: border-box;top: 0;bottom: 0;left: 50%;z-index: 0;}#sk-container-id-2 div.sk-serial {display: flex;flex-direction: column;align-items: center;background-color: white;padding-right: 0.2em;padding-left: 0.2em;position: relative;}#sk-container-id-2 div.sk-item {position: relative;z-index: 1;}#sk-container-id-2 div.sk-parallel {display: flex;align-items: stretch;justify-content: center;background-color: white;position: relative;}#sk-container-id-2 div.sk-item::before, #sk-container-id-2 div.sk-parallel-item::before {content: \"\";position: absolute;border-left: 1px solid gray;box-sizing: border-box;top: 0;bottom: 0;left: 50%;z-index: -1;}#sk-container-id-2 div.sk-parallel-item {display: flex;flex-direction: column;z-index: 1;position: relative;background-color: white;}#sk-container-id-2 div.sk-parallel-item:first-child::after {align-self: flex-end;width: 50%;}#sk-container-id-2 div.sk-parallel-item:last-child::after {align-self: flex-start;width: 50%;}#sk-container-id-2 div.sk-parallel-item:only-child::after {width: 0;}#sk-container-id-2 div.sk-dashed-wrapped {border: 1px dashed gray;margin: 0 0.4em 0.5em 0.4em;box-sizing: border-box;padding-bottom: 0.4em;background-color: white;}#sk-container-id-2 div.sk-label label {font-family: monospace;font-weight: bold;display: inline-block;line-height: 1.2em;}#sk-container-id-2 div.sk-label-container {text-align: center;}#sk-container-id-2 div.sk-container {/* jupyter's `normalize.less` sets `[hidden] { display: none; }` but bootstrap.min.css set `[hidden] { display: none !important; }` so we also need the `!important` here to be able to override the default hidden behavior on the sphinx rendered scikit-learn.org. See: https://github.com/scikit-learn/scikit-learn/issues/21755 */display: inline-block !important;position: relative;}#sk-container-id-2 div.sk-text-repr-fallback {display: none;}</style><div id=\"sk-container-id-2\" class=\"sk-top-container\"><div class=\"sk-text-repr-fallback\"><pre>SVC(kernel=&#x27;linear&#x27;)</pre><b>In a Jupyter environment, please rerun this cell to show the HTML representation or trust the notebook. <br />On GitHub, the HTML representation is unable to render, please try loading this page with nbviewer.org.</b></div><div class=\"sk-container\" hidden><div class=\"sk-item\"><div class=\"sk-estimator sk-toggleable\"><input class=\"sk-toggleable__control sk-hidden--visually\" id=\"sk-estimator-id-2\" type=\"checkbox\" checked><label for=\"sk-estimator-id-2\" class=\"sk-toggleable__label sk-toggleable__label-arrow\">SVC</label><div class=\"sk-toggleable__content\"><pre>SVC(kernel=&#x27;linear&#x27;)</pre></div></div></div></div></div>"
            ]
          },
          "metadata": {},
          "execution_count": 42
        }
      ]
    },
    {
      "cell_type": "code",
      "source": [
        "# Predict using the SVM model\n",
        "y_pred = svm_model.predict(X_test_tfidf)"
      ],
      "metadata": {
        "id": "tiGJ-UVJPS4K"
      },
      "execution_count": 43,
      "outputs": []
    },
    {
      "cell_type": "markdown",
      "source": [
        "## SVM Evaluation"
      ],
      "metadata": {
        "id": "qcLnsEJ5QCwv"
      }
    },
    {
      "cell_type": "code",
      "source": [
        "# Calculate accuracy and other metrics\n",
        "accuracy = accuracy_score(y_test, y_pred)\n",
        "classification_report_hindidata = classification_report(y_test, y_pred)"
      ],
      "metadata": {
        "id": "WqngVCqSPSz8"
      },
      "execution_count": 44,
      "outputs": []
    },
    {
      "cell_type": "code",
      "source": [
        "print(\"Accuracy:\", accuracy)\n",
        "print(\"Classification Report:\")\n",
        "print(classification_report_hindidata)"
      ],
      "metadata": {
        "colab": {
          "base_uri": "https://localhost:8080/"
        },
        "id": "GmSqfxQ-PSwL",
        "outputId": "0bb42ac5-ca03-43bd-c3ce-fd5149ccff57"
      },
      "execution_count": 45,
      "outputs": [
        {
          "output_type": "stream",
          "name": "stdout",
          "text": [
            "Accuracy: 0.7058823529411765\n",
            "Classification Report:\n",
            "              precision    recall  f1-score   support\n",
            "\n",
            "    not spam       0.69      1.00      0.81        11\n",
            "        spam       1.00      0.17      0.29         6\n",
            "\n",
            "    accuracy                           0.71        17\n",
            "   macro avg       0.84      0.58      0.55        17\n",
            "weighted avg       0.80      0.71      0.63        17\n",
            "\n"
          ]
        }
      ]
    },
    {
      "cell_type": "markdown",
      "source": [
        "## Plot"
      ],
      "metadata": {
        "id": "V5nVAe2AQsNF"
      }
    },
    {
      "cell_type": "code",
      "source": [
        "import matplotlib.pyplot as plt\n",
        "import seaborn as sns"
      ],
      "metadata": {
        "id": "UFhOS8qVQP_o"
      },
      "execution_count": 46,
      "outputs": []
    },
    {
      "cell_type": "code",
      "source": [
        "confusion_matrix_plot = confusion_matrix(y_test, y_pred)\n",
        "plt.figure(figsize=(8, 6))\n",
        "sns.heatmap(confusion_matrix_plot, annot=True, fmt='d', cmap='Blues', cbar=False)\n",
        "plt.xlabel('Predicted Labels')\n",
        "plt.ylabel('True Labels')\n",
        "plt.title('Confusion Matrix Heatmap')\n",
        "plt.show()"
      ],
      "metadata": {
        "colab": {
          "base_uri": "https://localhost:8080/",
          "height": 564
        },
        "id": "frLAYUcAQwbX",
        "outputId": "72a6d839-6777-41be-edb0-53e7731da994"
      },
      "execution_count": 47,
      "outputs": [
        {
          "output_type": "display_data",
          "data": {
            "text/plain": [
              "<Figure size 800x600 with 1 Axes>"
            ],
            "image/png": "[encoded data removed]"
          },
          "metadata": {}
        }
      ]
    },
    {
      "cell_type": "code",
      "source": [
        "# Visualize the relationship between the features and labels\n",
        "labels = df['type']\n",
        "for label in set(labels):\n",
        "    indices = (labels == label)\n",
        "    plt.scatter(X[indices].toarray()[:, 0], [indices].toarray()[:, 1], label=label)\n",
        "plt.xlabel('Feature 1 (TF-IDF)')\n",
        "plt.ylabel('Feature 2 (TF-IDF)')\n",
        "plt.legend()\n",
        "plt.title('Relationship between Text Features and Labels')\n",
        "plt.show()"
      ],
      "metadata": {
        "colab": {
          "base_uri": "https://localhost:8080/",
          "height": 369
        },
        "id": "nKXNevRvRPSP",
        "outputId": "710bf7a2-3d41-4446-da10-f43ca74e67e8"
      },
      "execution_count": 48,
      "outputs": [
        {
          "output_type": "error",
          "ename": "AttributeError",
          "evalue": "ignored",
          "traceback": [
            "\u001b[0;31m---------------------------------------------------------------------------\u001b[0m",
            "\u001b[0;31mAttributeError\u001b[0m                            Traceback (most recent call last)",
            "\u001b[0;32m<ipython-input-48-8067bd80c5a3>\u001b[0m in \u001b[0;36m<cell line: 3>\u001b[0;34m()\u001b[0m\n\u001b[1;32m      3\u001b[0m \u001b[0;32mfor\u001b[0m \u001b[0mlabel\u001b[0m \u001b[0;32min\u001b[0m \u001b[0mset\u001b[0m\u001b[0;34m(\u001b[0m\u001b[0mlabels\u001b[0m\u001b[0;34m)\u001b[0m\u001b[0;34m:\u001b[0m\u001b[0;34m\u001b[0m\u001b[0;34m\u001b[0m\u001b[0m\n\u001b[1;32m      4\u001b[0m     \u001b[0mindices\u001b[0m \u001b[0;34m=\u001b[0m \u001b[0;34m(\u001b[0m\u001b[0mlabels\u001b[0m \u001b[0;34m==\u001b[0m \u001b[0mlabel\u001b[0m\u001b[0;34m)\u001b[0m\u001b[0;34m\u001b[0m\u001b[0;34m\u001b[0m\u001b[0m\n\u001b[0;32m----> 5\u001b[0;31m     \u001b[0mplt\u001b[0m\u001b[0;34m.\u001b[0m\u001b[0mscatter\u001b[0m\u001b[0;34m(\u001b[0m\u001b[0mX\u001b[0m\u001b[0;34m[\u001b[0m\u001b[0mindices\u001b[0m\u001b[0;34m]\u001b[0m\u001b[0;34m.\u001b[0m\u001b[0mtoarray\u001b[0m\u001b[0;34m(\u001b[0m\u001b[0;34m)\u001b[0m\u001b[0;34m[\u001b[0m\u001b[0;34m:\u001b[0m\u001b[0;34m,\u001b[0m \u001b[0;36m0\u001b[0m\u001b[0;34m]\u001b[0m\u001b[0;34m,\u001b[0m \u001b[0;34m[\u001b[0m\u001b[0mindices\u001b[0m\u001b[0;34m]\u001b[0m\u001b[0;34m.\u001b[0m\u001b[0mtoarray\u001b[0m\u001b[0;34m(\u001b[0m\u001b[0;34m)\u001b[0m\u001b[0;34m[\u001b[0m\u001b[0;34m:\u001b[0m\u001b[0;34m,\u001b[0m \u001b[0;36m1\u001b[0m\u001b[0;34m]\u001b[0m\u001b[0;34m,\u001b[0m \u001b[0mlabel\u001b[0m\u001b[0;34m=\u001b[0m\u001b[0mlabel\u001b[0m\u001b[0;34m)\u001b[0m\u001b[0;34m\u001b[0m\u001b[0;34m\u001b[0m\u001b[0m\n\u001b[0m\u001b[1;32m      6\u001b[0m \u001b[0mplt\u001b[0m\u001b[0;34m.\u001b[0m\u001b[0mxlabel\u001b[0m\u001b[0;34m(\u001b[0m\u001b[0;34m'Feature 1 (TF-IDF)'\u001b[0m\u001b[0;34m)\u001b[0m\u001b[0;34m\u001b[0m\u001b[0;34m\u001b[0m\u001b[0m\n\u001b[1;32m      7\u001b[0m \u001b[0mplt\u001b[0m\u001b[0;34m.\u001b[0m\u001b[0mylabel\u001b[0m\u001b[0;34m(\u001b[0m\u001b[0;34m'Feature 2 (TF-IDF)'\u001b[0m\u001b[0;34m)\u001b[0m\u001b[0;34m\u001b[0m\u001b[0;34m\u001b[0m\u001b[0m\n",
            "\u001b[0;32m/usr/local/lib/python3.10/dist-packages/pandas/core/generic.py\u001b[0m in \u001b[0;36m__getattr__\u001b[0;34m(self, name)\u001b[0m\n\u001b[1;32m   5900\u001b[0m         ):\n\u001b[1;32m   5901\u001b[0m             \u001b[0;32mreturn\u001b[0m \u001b[0mself\u001b[0m\u001b[0;34m[\u001b[0m\u001b[0mname\u001b[0m\u001b[0;34m]\u001b[0m\u001b[0;34m\u001b[0m\u001b[0;34m\u001b[0m\u001b[0m\n\u001b[0;32m-> 5902\u001b[0;31m         \u001b[0;32mreturn\u001b[0m \u001b[0mobject\u001b[0m\u001b[0;34m.\u001b[0m\u001b[0m__getattribute__\u001b[0m\u001b[0;34m(\u001b[0m\u001b[0mself\u001b[0m\u001b[0;34m,\u001b[0m \u001b[0mname\u001b[0m\u001b[0;34m)\u001b[0m\u001b[0;34m\u001b[0m\u001b[0;34m\u001b[0m\u001b[0m\n\u001b[0m\u001b[1;32m   5903\u001b[0m \u001b[0;34m\u001b[0m\u001b[0m\n\u001b[1;32m   5904\u001b[0m     \u001b[0;32mdef\u001b[0m \u001b[0m__setattr__\u001b[0m\u001b[0;34m(\u001b[0m\u001b[0mself\u001b[0m\u001b[0;34m,\u001b[0m \u001b[0mname\u001b[0m\u001b[0;34m:\u001b[0m \u001b[0mstr\u001b[0m\u001b[0;34m,\u001b[0m \u001b[0mvalue\u001b[0m\u001b[0;34m)\u001b[0m \u001b[0;34m->\u001b[0m \u001b[0;32mNone\u001b[0m\u001b[0;34m:\u001b[0m\u001b[0;34m\u001b[0m\u001b[0;34m\u001b[0m\u001b[0m\n",
            "\u001b[0;31mAttributeError\u001b[0m: 'Series' object has no attribute 'toarray'"
          ]
        }
      ]
    },
    {
      "cell_type": "markdown",
      "source": [
        "## Deep Learning Approach"
      ],
      "metadata": {
        "id": "Hp2UXQytlUw9"
      }
    },
    {
      "cell_type": "code",
      "source": [
        "from sklearn.preprocessing import LabelEncoder\n",
        "from keras.preprocessing.text import Tokenizer\n",
        "from tensorflow.keras.preprocessing.sequence import pad_sequences\n",
        "from keras.models import Sequential\n",
        "from keras.layers import Embedding, SimpleRNN, Dense\n",
        "from keras.utils import to_categorical"
      ],
      "metadata": {
        "id": "XaEOUL7wiiFT"
      },
      "execution_count": 49,
      "outputs": []
    },
    {
      "cell_type": "code",
      "source": [
        "# Preprocessing\n",
        "df['hindi'] = df['hindi'].str.replace(r'\\n', ' ')  # Remove newline characters"
      ],
      "metadata": {
        "colab": {
          "base_uri": "https://localhost:8080/"
        },
        "id": "4UKGe2i-owCq",
        "outputId": "eb3aa3ba-8f8a-4f9d-bc49-0f5594b0c2a6"
      },
      "execution_count": 50,
      "outputs": [
        {
          "output_type": "stream",
          "name": "stderr",
          "text": [
            "<ipython-input-50-2d5c1cbaa011>:2: FutureWarning: The default value of regex will change from True to False in a future version.\n",
            "  df['hindi'] = df['hindi'].str.replace(r'\\n', ' ')  # Remove newline characters\n"
          ]
        }
      ]
    },
    {
      "cell_type": "code",
      "source": [
        "X = df['hindi']\n",
        "y = df['type']"
      ],
      "metadata": {
        "id": "uk9fdZ_ApaaJ"
      },
      "execution_count": 51,
      "outputs": []
    },
    {
      "cell_type": "code",
      "source": [
        "# Split data into train and test sets\n",
        "X_train,X_test,y_train,y_test = train_test_split(X,y,test_size=0.3)"
      ],
      "metadata": {
        "id": "yCgn5Dv_ov-9"
      },
      "execution_count": 52,
      "outputs": []
    },
    {
      "cell_type": "code",
      "source": [
        "X_train"
      ],
      "metadata": {
        "colab": {
          "base_uri": "https://localhost:8080/"
        },
        "id": "ePiE1bjlppZ6",
        "outputId": "1b750105-0289-4273-d854-0b93883b0cc6"
      },
      "execution_count": 53,
      "outputs": [
        {
          "output_type": "execute_result",
          "data": {
            "text/plain": [
              "12    भगवान ने आपके जीवन को प्रभावित करने के लिए बाइ...\n",
              "32    प्रिय महोदय/महोदया  मैं कर्मचारियों के लिए यूआ...\n",
              "16    त्वरित वेतन सर्वेक्षण®           नमस्ते एंगग्र...\n",
              "64    प्रिय महोदय/महोदया  मुझे टीवी लाइसेंस से एसएमए...\n",
              "37    आरई: जूनियर एडमिन असिस्टेंट  प्रिय नियुक्ति पे...\n",
              "49    शुभ दिन  मैं समाधि स्थल के लिए एक कोटेशन के लि...\n",
              "28    हाय रेहान     अभी साल आधा ही बीता है और हमने स...\n",
              "2     यह रहा आपका GitHub लॉन्च कोड, @Mortyj420!   एक...\n",
              "48    चल रहे मुद्रास्फीति के दबाव और शिलिंग के निरंत...\n",
              "4     हे प्रचंड रावल,  आज का न्यूज़लेटर आपके ब्लॉकबस...\n",
              "0     नमस्ते जेम्स,  क्या आपने अभी तक अपने मानार्थ उ...\n",
              "55    एसएफआई की ओर से शुभकामनाएँ... आइए कुछ बेहतरीन ...\n",
              "80    प्रिय ग्राहक,  किलिमॉल में आपका स्वागत है, हमस...\n",
              "36    प्रिय श्री उज़ोचुकु जोसेफ एज़े,  जून 2023 के ल...\n",
              "26    नमस्ते सत्या,  आपको को-डीओ समुदाय के लिए एक वी...\n",
              "58    जॉबस्ट्रीट.कॉम  हाय एंगग्रेनी, हमारे पास आपके ...\n",
              "10    शुभ दिन सर/मैडम   2020 में मैंने संस्थान में आ...\n",
              "54    स्नैपचैट+ ग्राहक के रूप में, अब आपके पास विशेष...\n",
              "44    हमने एक नया लॉगिन देखा, एलेक्सुज़ी   हमने एक ऐ...\n",
              "70    Venmo हाय मलिक दोस्तों,  आपके वेनमो खाते का प्...\n",
              "78    वीरांगना आदेश की पुष्टि नमस्ते मलिक,  हमारे सा...\n",
              "83    आपको एक उपहार मिला है! अपने बार्ड एक्सप्लोरर्स...\n",
              "76    हमने एक नया लॉगिन देखा नमस्ते ondiekijohn254@g...\n",
              "34    सब्सिडी हटाने और वस्तुओं और सेवाओं की कीमतों म...\n",
              "75    नमस्ते!  आपने नौकरी पद स्वीकार्यता के लिए आवेद...\n",
              "69    ताला मोबाइल  हाय जॉन, हम 27 जून 2023 से प्रभाव...\n",
              "74    अरे प्रचंड,   आज का वीडियो... अपना व्यवसाय बढ़...\n",
              "50    प्रिय जॉन,     केपीएमजी में रुचि व्यक्त करने औ...\n",
              "20    नमस्ते वालिद,  क्या आपके पास $7 हैं?  मैं इसलि...\n",
              "35    बोल्ट की सवारी न केवल सस्ती है, बल्कि वे कई सु...\n",
              "1     वैकल्पिक शब्द बधाई हो, आपने अभी-अभी कमाई की है...\n",
              "65    प्रिय महोदय, कृपया, मैं आपको सूचित करना चाहूंग...\n",
              "17    प्रिय जोसेफ एलेक्स एज़े   हमें आपको यह बताते ह...\n",
              "67    प्रिय डेनिस:  आपका अमेज़न खाता: denis.supermen...\n",
              "19    आपका अमेज़न प्राइम फ्री ट्रायल रद्द कर दिया गय...\n",
              "73    ? वीरा के लिए शीर्ष कहानियाँ  Quora ? सिक्स पै...\n",
              "11    ब्राउज़र में देखें  क्या आप एक लक्जरी यात्री ह...\n",
              "40    लाइव कहाँ होता है ?? लाइव पार्टी अभी शुरू हो र...\n",
              "15    ondiekijohn254, डिस्कोग्स ने हाल ही में मार्के...\n",
              "53    आरई: बिक्री कार्यकारी  प्रिय नियुक्ति पेशेवर  ...\n",
              "68    15 मार्च 2023 को, हम अपनी Google Play सेवा की ...\n",
              "29    हाय मरियम,,  कृपया कार्यक्रम के दौरान हमारे द्...\n",
              "46    महोदय, आपको सूचित किया जाता है कि हमारी खेप का...\n",
              "81    प्रिय व्लादिस163रस, यहां स्टीम गार्ड कोड है जि...\n",
              "63    यहां आपकी अगली 10 बोल्ट सवारी पर 10% की छूट है...\n",
              "22                      iiiiiiiiiiiiiiiiiiiii को आरटीडी\n",
              "45    नमस्ते,  मैंने BARD के विकास के लिए बहुत सारे ...\n",
              "13    हमारे नियम एवं शर्तों तथा गोपनीयता सूचना में प...\n",
              "52    नमस्ते सत्य नारायणन,  हमारी टीम 2023-06-17 07:...\n",
              "41    नमस्ते वालिद,  हमारी ज़ूम कॉल मीटिंग कल - गुरु...\n",
              "23                     Sfhdg से iiiiiiuiiiiiiiiiiiiiiii\n",
              "3     नमस्ते,   वर्चुअल रिवार्ड सेंटर से संपर्क करने...\n",
              "39    अपने विंडोज़ डिवाइस पर Google में साइन इन करने...\n",
              "51    हाय जॉन नई नौकरी के अवसर अंतर्राष्ट्रीय पशुधन ...\n",
              "66    प्रिय जॉन ओन्डिएकी मोटाचवा,  इमेज लेबलर/डेटा ए...\n",
              "57    आरामदायक और टिकाऊ लव, बोनिटो बेस्टसेलर में नया...\n",
              "43    आपको यह ईमेल इसलिए प्राप्त हो रहा है क्योंकि आ...\n",
              "60    प्रिय ग्राहक,  जैसे ही टैक्स सीज़न ख़त्म होने ...\n",
              "Name: hindi, dtype: object"
            ]
          },
          "metadata": {},
          "execution_count": 53
        }
      ]
    },
    {
      "cell_type": "code",
      "source": [
        "X_train.shape,y_train.shape"
      ],
      "metadata": {
        "colab": {
          "base_uri": "https://localhost:8080/"
        },
        "id": "qTBeU9LgppPO",
        "outputId": "6ce4c914-ab76-4c28-e423-e4744b707279"
      },
      "execution_count": 54,
      "outputs": [
        {
          "output_type": "execute_result",
          "data": {
            "text/plain": [
              "((58,), (58,))"
            ]
          },
          "metadata": {},
          "execution_count": 54
        }
      ]
    },
    {
      "cell_type": "code",
      "source": [
        "# Tokenization\n",
        "tokenizer = Tokenizer()\n",
        "tokenizer.fit_on_texts(X_train)\n",
        "train_sequences = tokenizer.texts_to_sequences(X_train)\n",
        "test_sequences = tokenizer.texts_to_sequences(X_test)"
      ],
      "metadata": {
        "id": "EiYw1WGDo-eM"
      },
      "execution_count": 55,
      "outputs": []
    },
    {
      "cell_type": "code",
      "source": [
        "len(tokenizer.word_index)"
      ],
      "metadata": {
        "colab": {
          "base_uri": "https://localhost:8080/"
        },
        "id": "-OkVWhS8ru40",
        "outputId": "9fa41b9e-d338-4933-d829-c6b581877593"
      },
      "execution_count": 56,
      "outputs": [
        {
          "output_type": "execute_result",
          "data": {
            "text/plain": [
              "2335"
            ]
          },
          "metadata": {},
          "execution_count": 56
        }
      ]
    },
    {
      "cell_type": "code",
      "source": [
        "# Padding\n",
        "max_sequence_length = max([len(seq) for seq in train_sequences + test_sequences])\n",
        "\n",
        "train_padded_sequences = pad_sequences(train_sequences, maxlen=max_sequence_length)\n",
        "test_padded_sequences = pad_sequences(test_sequences, maxlen=max_sequence_length)"
      ],
      "metadata": {
        "id": "7BneKw5Go-bY"
      },
      "execution_count": 57,
      "outputs": []
    },
    {
      "cell_type": "code",
      "source": [
        "# Convert labels to categorical\n",
        "label_encoder = LabelEncoder()\n",
        "y_train_encoded = label_encoder.fit_transform(y_train)\n",
        "y_train_encoded = to_categorical(y_train_encoded)\n",
        "y_test_encoded = label_encoder.transform(y_test)\n",
        "y_test_encoded = to_categorical(y_test_encoded)"
      ],
      "metadata": {
        "id": "gDwcPcOno-YO"
      },
      "execution_count": 58,
      "outputs": []
    },
    {
      "cell_type": "markdown",
      "source": [
        "## RNN"
      ],
      "metadata": {
        "id": "nmYbAj15radX"
      }
    },
    {
      "cell_type": "code",
      "source": [
        "# RNN Model Building\n",
        "model = Sequential()\n",
        "\n",
        "model.add(Embedding(input_dim=len(tokenizer.word_index) + 1, output_dim=100, input_length=max_sequence_length))\n",
        "\n",
        "model.add(SimpleRNN(128))\n",
        "\n",
        "model.add(Dense(10, activation='relu'))\n",
        "\n",
        "model.add(Dense(y_train_encoded.shape[1], activation='sigmoid'))"
      ],
      "metadata": {
        "id": "pX_nri0FrWjd"
      },
      "execution_count": 59,
      "outputs": []
    },
    {
      "cell_type": "code",
      "source": [
        "model.summary()"
      ],
      "metadata": {
        "colab": {
          "base_uri": "https://localhost:8080/"
        },
        "id": "VqqxYANUrWgu",
        "outputId": "c91c5b73-4371-45bf-c4e9-3d589f618b4d"
      },
      "execution_count": 60,
      "outputs": [
        {
          "output_type": "stream",
          "name": "stdout",
          "text": [
            "Model: \"sequential\"\n",
            "_________________________________________________________________\n",
            " Layer (type)                Output Shape              Param #   \n",
            "=================================================================\n",
            " embedding (Embedding)       (None, 1260, 100)         233600    \n",
            "                                                                 \n",
            " simple_rnn (SimpleRNN)      (None, 128)               29312     \n",
            "                                                                 \n",
            " dense (Dense)               (None, 10)                1290      \n",
            "                                                                 \n",
            " dense_1 (Dense)             (None, 2)                 22        \n",
            "                                                                 \n",
            "=================================================================\n",
            "Total params: 264,224\n",
            "Trainable params: 264,224\n",
            "Non-trainable params: 0\n",
            "_________________________________________________________________\n"
          ]
        }
      ]
    },
    {
      "cell_type": "code",
      "source": [
        "#Compile\n",
        "model.compile(optimizer='adam',\n",
        "              loss='binary_crossentropy',\n",
        "              metrics=['accuracy'])"
      ],
      "metadata": {
        "id": "Cd76iURBrWeP"
      },
      "execution_count": 61,
      "outputs": []
    },
    {
      "cell_type": "code",
      "source": [
        "#Train the model\n",
        "history = model.fit(train_padded_sequences, y_train_encoded, epochs=10, batch_size=32, validation_data=(test_padded_sequences, y_test_encoded),verbose=1)"
      ],
      "metadata": {
        "colab": {
          "base_uri": "https://localhost:8080/"
        },
        "id": "xTn-aAvttcYw",
        "outputId": "faac0caa-b507-4dbe-f043-ca66e1e7d7e9"
      },
      "execution_count": 62,
      "outputs": [
        {
          "output_type": "stream",
          "name": "stdout",
          "text": [
            "Epoch 1/10\n",
            "2/2 [==============================] - 11s 2s/step - loss: 0.7040 - accuracy: 0.3621 - val_loss: 0.7023 - val_accuracy: 0.3846\n",
            "Epoch 2/10\n",
            "2/2 [==============================] - 5s 3s/step - loss: 0.6501 - accuracy: 0.7414 - val_loss: 0.6823 - val_accuracy: 0.5000\n",
            "Epoch 3/10\n",
            "2/2 [==============================] - 5s 2s/step - loss: 0.5829 - accuracy: 0.9310 - val_loss: 0.6722 - val_accuracy: 0.6154\n",
            "Epoch 4/10\n",
            "2/2 [==============================] - 3s 2s/step - loss: 0.5508 - accuracy: 0.8793 - val_loss: 0.6969 - val_accuracy: 0.4231\n",
            "Epoch 5/10\n",
            "2/2 [==============================] - 4s 2s/step - loss: 0.5039 - accuracy: 0.9483 - val_loss: 0.6950 - val_accuracy: 0.4615\n",
            "Epoch 6/10\n",
            "2/2 [==============================] - 5s 2s/step - loss: 0.4414 - accuracy: 1.0000 - val_loss: 0.6689 - val_accuracy: 0.6538\n",
            "Epoch 7/10\n",
            "2/2 [==============================] - 4s 2s/step - loss: 0.3942 - accuracy: 1.0000 - val_loss: 0.6531 - val_accuracy: 0.6538\n",
            "Epoch 8/10\n",
            "2/2 [==============================] - 4s 2s/step - loss: 0.3575 - accuracy: 1.0000 - val_loss: 0.6531 - val_accuracy: 0.6538\n",
            "Epoch 9/10\n",
            "2/2 [==============================] - 5s 2s/step - loss: 0.3126 - accuracy: 1.0000 - val_loss: 0.6453 - val_accuracy: 0.6538\n",
            "Epoch 10/10\n",
            "2/2 [==============================] - 3s 2s/step - loss: 0.2627 - accuracy: 1.0000 - val_loss: 0.6507 - val_accuracy: 0.6923\n"
          ]
        }
      ]
    },
    {
      "cell_type": "markdown",
      "source": [
        "## Evaluate Simple RNN"
      ],
      "metadata": {
        "id": "yDp5oGm7v7__"
      }
    },
    {
      "cell_type": "code",
      "source": [
        "# Evaluate the model\n",
        "loss, accuracy = model.evaluate(test_padded_sequences, y_test_encoded)\n",
        "print(f\"Test Loss: {loss:.4f}, Test Accuracy: {accuracy:.4f}\")"
      ],
      "metadata": {
        "colab": {
          "base_uri": "https://localhost:8080/"
        },
        "id": "3-xqGghfuKeA",
        "outputId": "72605279-6391-4225-9523-15f810614d1d"
      },
      "execution_count": 63,
      "outputs": [
        {
          "output_type": "stream",
          "name": "stdout",
          "text": [
            "1/1 [==============================] - 0s 125ms/step - loss: 0.6507 - accuracy: 0.6923\n",
            "Test Loss: 0.6507, Test Accuracy: 0.6923\n"
          ]
        }
      ]
    },
    {
      "cell_type": "markdown",
      "source": [
        "## Plot"
      ],
      "metadata": {
        "id": "aHyG8J1kwEhM"
      }
    },
    {
      "cell_type": "code",
      "source": [
        "# Plot training and validation loss\n",
        "plt.figure(figsize=(8, 5))\n",
        "plt.plot(history.history['loss'], label='Training Loss')\n",
        "plt.plot(history.history['val_loss'], label='Validation Loss')\n",
        "plt.xlabel('Epoch')\n",
        "plt.ylabel('Loss')\n",
        "plt.title('Training and Validation Loss')\n",
        "plt.legend()"
      ],
      "metadata": {
        "colab": {
          "base_uri": "https://localhost:8080/",
          "height": 504
        },
        "id": "ZYtX52NUugsd",
        "outputId": "9421edad-7890-4e09-dea2-d09e1d6ae4f8"
      },
      "execution_count": 64,
      "outputs": [
        {
          "output_type": "execute_result",
          "data": {
            "text/plain": [
              "<matplotlib.legend.Legend at 0x7da3e808c970>"
            ]
          },
          "metadata": {},
          "execution_count": 64
        },
        {
          "output_type": "display_data",
          "data": {
            "text/plain": [
              "<Figure size 800x500 with 1 Axes>"
            ],
            "image/png": "[encoded data removed]"
          },
          "metadata": {}
        }
      ]
    },
    {
      "cell_type": "code",
      "source": [
        "# Plot training and validation accuracy\n",
        "plt.figure(figsize=(8, 5))\n",
        "plt.plot(history.history['accuracy'], label='Training Accuracy')\n",
        "plt.plot(history.history['val_accuracy'], label='Validation Accuracy')\n",
        "plt.xlabel('Epoch')\n",
        "plt.ylabel('Accuracy')\n",
        "plt.title('Training and Validation Accuracy')\n",
        "plt.legend()"
      ],
      "metadata": {
        "colab": {
          "base_uri": "https://localhost:8080/",
          "height": 504
        },
        "id": "v-ETLOqBwIHY",
        "outputId": "c6803c47-c772-4f73-f6f7-705a2051c1c9"
      },
      "execution_count": 65,
      "outputs": [
        {
          "output_type": "execute_result",
          "data": {
            "text/plain": [
              "<matplotlib.legend.Legend at 0x7da3d82e6dd0>"
            ]
          },
          "metadata": {},
          "execution_count": 65
        },
        {
          "output_type": "display_data",
          "data": {
            "text/plain": [
              "<Figure size 800x500 with 1 Axes>"
            ],
            "image/png": "[encoded data removed]"
          },
          "metadata": {}
        }
      ]
    },
    {
      "cell_type": "code",
      "source": [],
      "metadata": {
        "id": "QBaTC2zvwuz9"
      },
      "execution_count": null,
      "outputs": []
    },
    {
      "cell_type": "markdown",
      "source": [
        "## LSTM"
      ],
      "metadata": {
        "id": "pfnSn5jPxK2R"
      }
    },
    {
      "cell_type": "code",
      "source": [
        "from keras.layers import LSTM"
      ],
      "metadata": {
        "id": "QSyVqLDlxJet"
      },
      "execution_count": 66,
      "outputs": []
    },
    {
      "cell_type": "code",
      "source": [
        "#Building LSTM Model\n",
        "lstm_model = Sequential()\n",
        "\n",
        "lstm_model.add(Embedding(input_dim=len(tokenizer.word_index) + 1, output_dim=100, input_length=max_sequence_length))\n",
        "\n",
        "lstm_model.add(LSTM(128))\n",
        "\n",
        "lstm_model.add(Dense(10, activation='relu'))\n",
        "\n",
        "lstm_model.add(Dense(y_train_encoded.shape[1], activation='sigmoid'))"
      ],
      "metadata": {
        "id": "i2IBL2GDxJbd"
      },
      "execution_count": 67,
      "outputs": []
    },
    {
      "cell_type": "code",
      "source": [
        "# Compile LSTM model\n",
        "lstm_model.compile(optimizer='adam', loss='binary_crossentropy', metrics=['accuracy'])"
      ],
      "metadata": {
        "id": "oKDW6Ri4xJI-"
      },
      "execution_count": 68,
      "outputs": []
    },
    {
      "cell_type": "code",
      "source": [
        "# Train the LSTM model\n",
        "lstm_history = lstm_model.fit(train_padded_sequences, y_train_encoded, validation_data=(test_padded_sequences, y_test_encoded), epochs=10, batch_size=32)"
      ],
      "metadata": {
        "colab": {
          "base_uri": "https://localhost:8080/"
        },
        "id": "Vr07HmafxJGZ",
        "outputId": "914f3b37-fbaa-489f-94de-847c7a53c5fd"
      },
      "execution_count": 69,
      "outputs": [
        {
          "output_type": "stream",
          "name": "stdout",
          "text": [
            "Epoch 1/10\n",
            "2/2 [==============================] - 5s 843ms/step - loss: 0.6912 - accuracy: 0.7241 - val_loss: 0.6896 - val_accuracy: 0.6154\n",
            "Epoch 2/10\n",
            "2/2 [==============================] - 1s 341ms/step - loss: 0.6810 - accuracy: 0.7241 - val_loss: 0.6848 - val_accuracy: 0.6154\n",
            "Epoch 3/10\n",
            "2/2 [==============================] - 1s 345ms/step - loss: 0.6674 - accuracy: 0.7241 - val_loss: 0.6769 - val_accuracy: 0.6154\n",
            "Epoch 4/10\n",
            "2/2 [==============================] - 1s 334ms/step - loss: 0.6400 - accuracy: 0.7414 - val_loss: 0.6631 - val_accuracy: 0.6154\n",
            "Epoch 5/10\n",
            "2/2 [==============================] - 1s 362ms/step - loss: 0.5948 - accuracy: 0.7586 - val_loss: 0.6667 - val_accuracy: 0.6154\n",
            "Epoch 6/10\n",
            "2/2 [==============================] - 1s 498ms/step - loss: 0.5156 - accuracy: 0.7586 - val_loss: 0.7293 - val_accuracy: 0.6154\n",
            "Epoch 7/10\n",
            "2/2 [==============================] - 1s 521ms/step - loss: 0.5032 - accuracy: 0.7586 - val_loss: 0.6515 - val_accuracy: 0.6154\n",
            "Epoch 8/10\n",
            "2/2 [==============================] - 1s 537ms/step - loss: 0.4683 - accuracy: 0.7586 - val_loss: 0.6413 - val_accuracy: 0.6154\n",
            "Epoch 9/10\n",
            "2/2 [==============================] - 1s 510ms/step - loss: 0.4290 - accuracy: 0.7586 - val_loss: 0.6499 - val_accuracy: 0.6538\n",
            "Epoch 10/10\n",
            "2/2 [==============================] - 1s 540ms/step - loss: 0.3591 - accuracy: 0.7586 - val_loss: 0.7665 - val_accuracy: 0.6538\n"
          ]
        }
      ]
    },
    {
      "cell_type": "code",
      "source": [
        "# Plot loss and accuracy for LSTM\n",
        "plt.figure(figsize=(8, 5))\n",
        "plt.plot(lstm_history.history['loss'], label='Training Loss')\n",
        "plt.plot(lstm_history.history['val_loss'], label='Validation Loss')\n",
        "plt.xlabel('Epoch')\n",
        "plt.ylabel('Loss')\n",
        "plt.title('LSTM Training and Validation Loss')\n",
        "plt.legend()"
      ],
      "metadata": {
        "colab": {
          "base_uri": "https://localhost:8080/",
          "height": 504
        },
        "id": "JTv5vF3DxJDO",
        "outputId": "31d02108-946b-4813-d373-d977348ad37b"
      },
      "execution_count": 70,
      "outputs": [
        {
          "output_type": "execute_result",
          "data": {
            "text/plain": [
              "<matplotlib.legend.Legend at 0x7da3d80dc0d0>"
            ]
          },
          "metadata": {},
          "execution_count": 70
        },
        {
          "output_type": "display_data",
          "data": {
            "text/plain": [
              "<Figure size 800x500 with 1 Axes>"
            ],
            "image/png": "[encoded data removed]"
          },
          "metadata": {}
        }
      ]
    },
    {
      "cell_type": "code",
      "source": [
        "plt.figure(figsize=(8,5))\n",
        "plt.plot(lstm_history.history['accuracy'], label='Training Accuracy')\n",
        "plt.plot(lstm_history.history['val_accuracy'], label='Validation Accuracy')\n",
        "plt.xlabel('Epoch')\n",
        "plt.ylabel('Accuracy')\n",
        "plt.title('LSTM Training and Validation Accuracy')\n",
        "plt.legend()"
      ],
      "metadata": {
        "colab": {
          "base_uri": "https://localhost:8080/",
          "height": 504
        },
        "id": "he1LrqIdykEy",
        "outputId": "7c9120f8-d158-4349-c43e-887ee964c3b5"
      },
      "execution_count": 71,
      "outputs": [
        {
          "output_type": "execute_result",
          "data": {
            "text/plain": [
              "<matplotlib.legend.Legend at 0x7da3d0316920>"
            ]
          },
          "metadata": {},
          "execution_count": 71
        },
        {
          "output_type": "display_data",
          "data": {
            "text/plain": [
              "<Figure size 800x500 with 1 Axes>"
            ],
            "image/png": "[encoded data removed]"
          },
          "metadata": {}
        }
      ]
    },
    {
      "cell_type": "code",
      "source": [],
      "metadata": {
        "id": "1ikI2pqW0rLN"
      },
      "execution_count": null,
      "outputs": []
    },
    {
      "cell_type": "markdown",
      "source": [
        "## GRU"
      ],
      "metadata": {
        "id": "38uVYKbI0zxS"
      }
    },
    {
      "cell_type": "code",
      "source": [
        "from keras.layers import GRU"
      ],
      "metadata": {
        "id": "SQSXTXqL01D3"
      },
      "execution_count": 72,
      "outputs": []
    },
    {
      "cell_type": "code",
      "source": [
        "# Building GRU Model\n",
        "gru_model = Sequential()\n",
        "\n",
        "gru_model.add(Embedding(input_dim=len(tokenizer.word_index) + 1, output_dim=100, input_length=max_sequence_length))\n",
        "\n",
        "gru_model.add(GRU(128))\n",
        "\n",
        "gru_model.add(Dense(10, activation='relu'))\n",
        "\n",
        "gru_model.add(Dense(y_train_encoded.shape[1], activation='sigmoid'))"
      ],
      "metadata": {
        "id": "3OkOm57o01sg"
      },
      "execution_count": 73,
      "outputs": []
    },
    {
      "cell_type": "code",
      "source": [
        "#Compile GRU Model\n",
        "gru_model.compile(optimizer='adam', loss='binary_crossentropy', metrics=['accuracy'])"
      ],
      "metadata": {
        "id": "L5RNd2GX0_n6"
      },
      "execution_count": 74,
      "outputs": []
    },
    {
      "cell_type": "code",
      "source": [
        "#Train the GRU model\n",
        "gru_history = gru_model.fit(train_padded_sequences, y_train_encoded, validation_data=(test_padded_sequences, y_test_encoded), epochs=10, batch_size=32)"
      ],
      "metadata": {
        "colab": {
          "base_uri": "https://localhost:8080/"
        },
        "id": "hEW9LMTj1LDD",
        "outputId": "09bd08bd-b83b-4877-901e-0e5e1557e69f"
      },
      "execution_count": 75,
      "outputs": [
        {
          "output_type": "stream",
          "name": "stdout",
          "text": [
            "Epoch 1/10\n",
            "2/2 [==============================] - 4s 788ms/step - loss: 0.6912 - accuracy: 0.5517 - val_loss: 0.6888 - val_accuracy: 0.6154\n",
            "Epoch 2/10\n",
            "2/2 [==============================] - 1s 369ms/step - loss: 0.6788 - accuracy: 0.7241 - val_loss: 0.6851 - val_accuracy: 0.6154\n",
            "Epoch 3/10\n",
            "2/2 [==============================] - 1s 433ms/step - loss: 0.6630 - accuracy: 0.7241 - val_loss: 0.6804 - val_accuracy: 0.6154\n",
            "Epoch 4/10\n",
            "2/2 [==============================] - 1s 523ms/step - loss: 0.6439 - accuracy: 0.7241 - val_loss: 0.6743 - val_accuracy: 0.6154\n",
            "Epoch 5/10\n",
            "2/2 [==============================] - 1s 498ms/step - loss: 0.6207 - accuracy: 0.7241 - val_loss: 0.6671 - val_accuracy: 0.6154\n",
            "Epoch 6/10\n",
            "2/2 [==============================] - 1s 505ms/step - loss: 0.5883 - accuracy: 0.7241 - val_loss: 0.6609 - val_accuracy: 0.6154\n",
            "Epoch 7/10\n",
            "2/2 [==============================] - 1s 537ms/step - loss: 0.5458 - accuracy: 0.7241 - val_loss: 0.6616 - val_accuracy: 0.6154\n",
            "Epoch 8/10\n",
            "2/2 [==============================] - 1s 175ms/step - loss: 0.4907 - accuracy: 0.7241 - val_loss: 0.6917 - val_accuracy: 0.6154\n",
            "Epoch 9/10\n",
            "2/2 [==============================] - 0s 337ms/step - loss: 0.4528 - accuracy: 0.7241 - val_loss: 0.7662 - val_accuracy: 0.6154\n",
            "Epoch 10/10\n",
            "2/2 [==============================] - 1s 308ms/step - loss: 0.4125 - accuracy: 0.7414 - val_loss: 0.7472 - val_accuracy: 0.6154\n"
          ]
        }
      ]
    },
    {
      "cell_type": "markdown",
      "source": [
        "## Plot"
      ],
      "metadata": {
        "id": "dNf2QhJ11rcL"
      }
    },
    {
      "cell_type": "code",
      "source": [
        "# Plot loss and accuracy for GRU\n",
        "plt.figure(figsize=(8, 5))\n",
        "plt.plot(gru_history.history['loss'], label='Training Loss')\n",
        "plt.plot(gru_history.history['val_loss'], label='Validation Loss')\n",
        "plt.xlabel('Epoch')\n",
        "plt.ylabel('Loss')\n",
        "plt.title('GRU Training and Validation Loss')\n",
        "plt.legend()\n",
        "plt.show()"
      ],
      "metadata": {
        "colab": {
          "base_uri": "https://localhost:8080/",
          "height": 487
        },
        "id": "k39sh5rh1Zoh",
        "outputId": "2d9c4895-b439-4477-f59b-e44b6e18fa14"
      },
      "execution_count": 76,
      "outputs": [
        {
          "output_type": "display_data",
          "data": {
            "text/plain": [
              "<Figure size 800x500 with 1 Axes>"
            ],
            "image/png": "[encoded data removed]"
          },
          "metadata": {}
        }
      ]
    },
    {
      "cell_type": "code",
      "source": [
        "plt.figure(figsize=(8,5))\n",
        "plt.plot(gru_history.history['accuracy'], label='Training Accuracy')\n",
        "plt.plot(gru_history.history['val_accuracy'], label='Validation Accuracy')\n",
        "plt.xlabel('Epoch')\n",
        "plt.ylabel('Accuracy')\n",
        "plt.title('GRU Training and Validation Accuracy')\n",
        "plt.legend()\n",
        "plt.show()"
      ],
      "metadata": {
        "colab": {
          "base_uri": "https://localhost:8080/",
          "height": 487
        },
        "id": "wqmFATXf1xL1",
        "outputId": "9828b6c0-17c4-4476-c2d7-968b6974db12"
      },
      "execution_count": 77,
      "outputs": [
        {
          "output_type": "display_data",
          "data": {
            "text/plain": [
              "<Figure size 800x500 with 1 Axes>"
            ],
            "image/png": "[encoded data removed]"
          },
          "metadata": {}
        }
      ]
    },
    {
      "cell_type": "code",
      "source": [],
      "metadata": {
        "id": "DuqvZl8a2BIG"
      },
      "execution_count": null,
      "outputs": []
    }
  ]
}